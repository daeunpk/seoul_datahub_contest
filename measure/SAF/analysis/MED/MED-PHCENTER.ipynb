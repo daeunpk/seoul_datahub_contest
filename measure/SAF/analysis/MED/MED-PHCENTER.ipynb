{
 "cells": [
  {
   "cell_type": "code",
   "execution_count": 1,
   "id": "ced5117b",
   "metadata": {},
   "outputs": [],
   "source": [
    "import pandas as pd\n",
    "from sklearn.preprocessing import StandardScaler, MinMaxScaler"
   ]
  },
  {
   "cell_type": "code",
   "execution_count": 2,
   "id": "4a06cdda",
   "metadata": {},
   "outputs": [
    {
     "name": "stdout",
     "output_type": "stream",
     "text": [
      "   자치구  보건소  보건분소  보건지소  phcenter_score  phbranch_score  phsubcenter_score  \\\n",
      "0  강남구    2     2     2             0.0            50.0               25.0   \n",
      "1  강동구    2     0     4             0.0             0.0               50.0   \n",
      "2  강북구    2     0     4             0.0             0.0               50.0   \n",
      "3  강서구    2     2     4             0.0            50.0               50.0   \n",
      "4  관악구    2     2     2             0.0            50.0               25.0   \n",
      "\n",
      "   phcenter_mean_score  \n",
      "0            25.000000  \n",
      "1            16.666667  \n",
      "2            16.666667  \n",
      "3            33.333333  \n",
      "4            25.000000  \n"
     ]
    }
   ],
   "source": [
    "# 1. 데이터 불러오기\n",
    "df = pd.read_csv(\"../../data/MED-PHCENTER/MED-PHCENTER.csv\")\n",
    "\n",
    "# 2. \"-\" → 0 치환 후 숫자 변환\n",
    "for col in [\"보건소\", \"보건분소\", \"보건지소\"]:\n",
    "    df[col] = df[col].replace(\"-\", 0)\n",
    "    df[col] = pd.to_numeric(df[col], errors=\"coerce\").fillna(0)\n",
    "\n",
    "# 3. 소계 행 제거\n",
    "df = df[df[\"자치구\"] != \"소계\"]\n",
    "\n",
    "# 4. 자치구별 합산\n",
    "agg = df.groupby(\"자치구\")[[\"보건소\", \"보건분소\", \"보건지소\"]].sum().reset_index()\n",
    "\n",
    "# 5. Z-Score 정규화 → MinMax Scaling (0~100)\n",
    "scaler_z = StandardScaler()\n",
    "scaler_mm = MinMaxScaler()\n",
    "\n",
    "z_scaled = scaler_z.fit_transform(agg[[\"보건소\", \"보건분소\", \"보건지소\"]])\n",
    "mm_scaled = scaler_mm.fit_transform(z_scaled)\n",
    "\n",
    "agg[[\"phcenter_score\", \"phbranch_score\", \"phsubcenter_score\"]] = mm_scaled * 100\n",
    "\n",
    "# 6. 평균 점수\n",
    "agg[\"phcenter_mean_score\"] = agg[[\"phcenter_score\", \"phbranch_score\", \"phsubcenter_score\"]].mean(axis=1)\n",
    "\n",
    "# 7. 저장\n",
    "agg.to_csv(\"../../result/MED/MED-PHCENTER_result.csv\", index=False, encoding=\"utf-8-sig\")\n",
    "\n",
    "print(agg.head())"
   ]
  }
 ],
 "metadata": {
  "kernelspec": {
   "display_name": "yein",
   "language": "python",
   "name": "python3"
  },
  "language_info": {
   "codemirror_mode": {
    "name": "ipython",
    "version": 3
   },
   "file_extension": ".py",
   "mimetype": "text/x-python",
   "name": "python",
   "nbconvert_exporter": "python",
   "pygments_lexer": "ipython3",
   "version": "3.11.13"
  }
 },
 "nbformat": 4,
 "nbformat_minor": 5
}
