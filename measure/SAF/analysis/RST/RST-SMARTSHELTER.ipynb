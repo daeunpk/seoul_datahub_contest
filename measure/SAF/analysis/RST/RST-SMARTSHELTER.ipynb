{
 "cells": [
  {
   "cell_type": "code",
   "execution_count": 1,
   "id": "92b7ff6b",
   "metadata": {},
   "outputs": [],
   "source": [
    "import pandas as pd\n",
    "from sklearn.preprocessing import MinMaxScaler"
   ]
  },
  {
   "cell_type": "code",
   "execution_count": null,
   "id": "51ac9412",
   "metadata": {},
   "outputs": [
    {
     "name": "stdout",
     "output_type": "stream",
     "text": [
      "    구이름  smartshelter_count  smartshelter_score\n",
      "0   강동구                   2                  70\n",
      "1   강서구                   2                  70\n",
      "2   관악구                   3                 100\n",
      "3   광진구                   1                  40\n",
      "4  동대문구                   1                  40\n"
     ]
    }
   ],
   "source": [
    "# -------------------\n",
    "# 1. 데이터 불러오기\n",
    "# -------------------\n",
    "file_path = \"../../data/RST-SMARTSHELTER/RST-SMARTSHELTER.csv\"\n",
    "df = pd.read_csv(file_path)\n",
    "\n",
    "# -------------------\n",
    "# 2. 헤더 정리\n",
    "# -------------------\n",
    "df.columns = [\"시도\", \"구이름\", \"시설명\", \"설치장소\", \"상세주소\", \"설치년도\"]\n",
    "\n",
    "# -------------------\n",
    "# 3. '구이름' 추출\n",
    "# -------------------\n",
    "# 현재 구이름 컬럼에는 '-'가 들어가 있음 → 상세주소에서 구 이름 뽑기\n",
    "df[\"구이름\"] = df[\"상세주소\"].str.extract(r\"서울\\s*([^ ]+구)\")\n",
    "\n",
    "# -------------------\n",
    "# 4. 구별 스마트쉼터 개수 집계\n",
    "# -------------------\n",
    "gu_stats = df.groupby(\"구이름\").size().reset_index(name=\"smartshelter_count\")\n",
    "\n",
    "# -------------------\n",
    "# 5. 정책 점수 부여\n",
    "# -------------------\n",
    "def assign_policy_score(count):\n",
    "    if count >= 3:\n",
    "        return 100\n",
    "    elif count == 2:\n",
    "        return 70\n",
    "    elif count == 1:\n",
    "        return 40\n",
    "    else:\n",
    "        return 0\n",
    "\n",
    "gu_stats[\"smartshelter_score\"] = gu_stats[\"smartshelter_count\"].apply(assign_policy_score)\n",
    "\n",
    "# -------------------\n",
    "# 6. 결과 저장\n",
    "# -------------------\n",
    "output_path = \"../../result/RST/RST-SMARTSHELTER_result.csv\"\n",
    "gu_stats.to_csv(output_path, index=False, encoding=\"utf-8-sig\")\n",
    "\n",
    "print(gu_stats.head())"
   ]
  }
 ],
 "metadata": {
  "kernelspec": {
   "display_name": "yein",
   "language": "python",
   "name": "python3"
  },
  "language_info": {
   "codemirror_mode": {
    "name": "ipython",
    "version": 3
   },
   "file_extension": ".py",
   "mimetype": "text/x-python",
   "name": "python",
   "nbconvert_exporter": "python",
   "pygments_lexer": "ipython3",
   "version": "3.11.13"
  }
 },
 "nbformat": 4,
 "nbformat_minor": 5
}
