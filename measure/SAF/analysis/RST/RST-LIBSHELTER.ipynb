{
 "cells": [
  {
   "cell_type": "code",
   "execution_count": 1,
   "id": "8589203d",
   "metadata": {},
   "outputs": [],
   "source": [
    "import pandas as pd\n",
    "from sklearn.preprocessing import MinMaxScaler"
   ]
  },
  {
   "cell_type": "code",
   "execution_count": null,
   "id": "d3645f14",
   "metadata": {},
   "outputs": [
    {
     "name": "stdout",
     "output_type": "stream",
     "text": [
      "처리 완료: ../../result/RST/RST_LIBSHELTER_result.csv\n"
     ]
    },
    {
     "data": {
      "text/html": [
       "<div>\n",
       "<style scoped>\n",
       "    .dataframe tbody tr th:only-of-type {\n",
       "        vertical-align: middle;\n",
       "    }\n",
       "\n",
       "    .dataframe tbody tr th {\n",
       "        vertical-align: top;\n",
       "    }\n",
       "\n",
       "    .dataframe thead th {\n",
       "        text-align: right;\n",
       "    }\n",
       "</style>\n",
       "<table border=\"1\" class=\"dataframe\">\n",
       "  <thead>\n",
       "    <tr style=\"text-align: right;\">\n",
       "      <th></th>\n",
       "      <th>구이름</th>\n",
       "      <th>libshelter_count</th>\n",
       "      <th>libshelter_score</th>\n",
       "    </tr>\n",
       "  </thead>\n",
       "  <tbody>\n",
       "    <tr>\n",
       "      <th>0</th>\n",
       "      <td>강남구</td>\n",
       "      <td>16</td>\n",
       "      <td>93.333333</td>\n",
       "    </tr>\n",
       "    <tr>\n",
       "      <th>1</th>\n",
       "      <td>강동구</td>\n",
       "      <td>6</td>\n",
       "      <td>26.666667</td>\n",
       "    </tr>\n",
       "    <tr>\n",
       "      <th>2</th>\n",
       "      <td>강북구</td>\n",
       "      <td>6</td>\n",
       "      <td>26.666667</td>\n",
       "    </tr>\n",
       "    <tr>\n",
       "      <th>3</th>\n",
       "      <td>강서구</td>\n",
       "      <td>5</td>\n",
       "      <td>20.000000</td>\n",
       "    </tr>\n",
       "    <tr>\n",
       "      <th>4</th>\n",
       "      <td>관악구</td>\n",
       "      <td>5</td>\n",
       "      <td>20.000000</td>\n",
       "    </tr>\n",
       "  </tbody>\n",
       "</table>\n",
       "</div>"
      ],
      "text/plain": [
       "   구이름  libshelter_count  libshelter_score\n",
       "0  강남구                16         93.333333\n",
       "1  강동구                 6         26.666667\n",
       "2  강북구                 6         26.666667\n",
       "3  강서구                 5         20.000000\n",
       "4  관악구                 5         20.000000"
      ]
     },
     "execution_count": 2,
     "metadata": {},
     "output_type": "execute_result"
    }
   ],
   "source": [
    "# -------------------\n",
    "# 1. 데이터 불러오기\n",
    "# -------------------\n",
    "file_path = \"../../data/RST-LIBSHELTER/RST-LIBSHELTER.csv\"\n",
    "df = pd.read_csv(file_path)\n",
    "\n",
    "# -------------------\n",
    "# 2. 구별 도서관 개수 집계\n",
    "# -------------------\n",
    "gu_stats = df.groupby(\"자치구\").agg({\n",
    "    \"도서관명\": \"count\"\n",
    "}).reset_index()\n",
    "\n",
    "gu_stats.rename(columns={\n",
    "    \"자치구\": \"구이름\",\n",
    "    \"도서관명\": \"libshelter_count\"\n",
    "}, inplace=True)\n",
    "\n",
    "# -------------------\n",
    "# 3. MinMax Scaling (0~100점)\n",
    "# -------------------\n",
    "scaler = MinMaxScaler(feature_range=(0, 100))\n",
    "gu_stats[\"libshelter_score\"] = scaler.fit_transform(\n",
    "    gu_stats[[\"libshelter_count\"]]\n",
    ")\n",
    "\n",
    "# -------------------\n",
    "# 4. 저장\n",
    "# -------------------\n",
    "output_path = \"../../result/RST/RST-LIBSHELTER_result.csv\"\n",
    "gu_stats.to_csv(output_path, index=False, encoding=\"utf-8-sig\")\n",
    "\n",
    "print(\"처리 완료:\", output_path)\n",
    "gu_stats.head()"
   ]
  }
 ],
 "metadata": {
  "kernelspec": {
   "display_name": "yein",
   "language": "python",
   "name": "python3"
  },
  "language_info": {
   "codemirror_mode": {
    "name": "ipython",
    "version": 3
   },
   "file_extension": ".py",
   "mimetype": "text/x-python",
   "name": "python",
   "nbconvert_exporter": "python",
   "pygments_lexer": "ipython3",
   "version": "3.11.13"
  }
 },
 "nbformat": 4,
 "nbformat_minor": 5
}
