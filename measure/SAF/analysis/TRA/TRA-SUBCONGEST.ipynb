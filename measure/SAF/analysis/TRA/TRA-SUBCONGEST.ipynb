{
 "cells": [
  {
   "cell_type": "code",
   "execution_count": 1,
   "id": "750825cf",
   "metadata": {},
   "outputs": [],
   "source": [
    "import pandas as pd\n",
    "from sklearn.preprocessing import MinMaxScaler"
   ]
  },
  {
   "cell_type": "code",
   "execution_count": 2,
   "id": "1d7fe2c5",
   "metadata": {},
   "outputs": [
    {
     "name": "stdout",
     "output_type": "stream",
     "text": [
      "  시군구명  station_mean_congest  subway_congest_score\n",
      "0  강남구             27.953609             56.388565\n",
      "1  강동구             31.980339             71.769017\n",
      "2  강서구             13.190612              0.000000\n",
      "3  관악구             35.641699             85.753901\n",
      "4  광진구             39.371446            100.000000\n"
     ]
    }
   ],
   "source": [
    "# -------------------\n",
    "# 1. 혼잡도 데이터\n",
    "# -------------------\n",
    "sub_df = pd.read_csv(\"../../data/TRA-SUBCONGEST/TRA-SUBCONGEST.csv\")\n",
    "time_cols = [col for col in sub_df.columns if \"시\" in col]\n",
    "sub_df[\"station_mean_congest\"] = sub_df[time_cols].mean(axis=1)\n",
    "\n",
    "# -------------------\n",
    "# 2. 역-구 매핑 데이터\n",
    "# -------------------\n",
    "map_df = pd.read_csv(\"../../data/TRA-SUBCONGEST/서울시 지하철역 엘리베이터 위치정보.csv\", encoding='cp949')\n",
    "map_df = map_df[[\"시군구명\", \"지하철역명\"]].drop_duplicates()\n",
    "\n",
    "# -------------------\n",
    "# 3. 병합 (출발역 ↔ 지하철역명)\n",
    "# -------------------\n",
    "merged = pd.merge(sub_df, map_df, left_on=\"출발역\", right_on=\"지하철역명\", how=\"left\")\n",
    "\n",
    "# -------------------\n",
    "# 4. 구별 평균 혼잡도\n",
    "# -------------------\n",
    "gu_stats = merged.groupby(\"시군구명\")[\"station_mean_congest\"].mean().reset_index()\n",
    "\n",
    "# -------------------\n",
    "# 5. MinMax Scaling (0~100점)\n",
    "# -------------------\n",
    "scaler = MinMaxScaler(feature_range=(0, 100))\n",
    "gu_stats[\"subway_congest_score\"] = scaler.fit_transform(gu_stats[[\"station_mean_congest\"]])\n",
    "\n",
    "# -------------------\n",
    "# 6. 저장\n",
    "# -------------------\n",
    "gu_stats.to_csv(\"../../result/TRA/TRA-SUBCONGEST_result.csv\", index=False, encoding=\"utf-8-sig\")\n",
    "\n",
    "print(gu_stats.head())"
   ]
  }
 ],
 "metadata": {
  "kernelspec": {
   "display_name": "yein",
   "language": "python",
   "name": "python3"
  },
  "language_info": {
   "codemirror_mode": {
    "name": "ipython",
    "version": 3
   },
   "file_extension": ".py",
   "mimetype": "text/x-python",
   "name": "python",
   "nbconvert_exporter": "python",
   "pygments_lexer": "ipython3",
   "version": "3.11.13"
  }
 },
 "nbformat": 4,
 "nbformat_minor": 5
}
