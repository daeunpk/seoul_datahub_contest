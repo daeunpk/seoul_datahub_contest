{
 "cells": [
  {
   "cell_type": "code",
   "execution_count": 1,
   "id": "269e6c5e",
   "metadata": {},
   "outputs": [],
   "source": [
    "import pandas as pd\n",
    "from sklearn.preprocessing import MinMaxScaler"
   ]
  },
  {
   "cell_type": "code",
   "execution_count": 2,
   "id": "88c82b21",
   "metadata": {},
   "outputs": [
    {
     "name": "stdout",
     "output_type": "stream",
     "text": [
      "    gu  발생건수  사망자수  부상자수  traaccident_score\n",
      "1  종로구   917     5  1253          14.257263\n",
      "2   중구   976    16  1236          35.100954\n",
      "3  용산구   868    12  1174          26.086682\n",
      "4  성동구   919     7  1155          17.202332\n",
      "5  광진구   785     4  1018           9.175386\n"
     ]
    }
   ],
   "source": [
    "# -------------------\n",
    "# 1. 데이터 불러오기\n",
    "# -------------------\n",
    "df = pd.read_csv(\"../../data/TRA-TRAACCIDENT/TRA-TRAACCIDENT.csv\")\n",
    "\n",
    "# -------------------\n",
    "# 2. 소계 제거\n",
    "# -------------------\n",
    "df = df[df[\"자치구\"] != \"소계\"].copy()\n",
    "\n",
    "# -------------------\n",
    "# 3. 필요한 컬럼 선택\n",
    "# -------------------\n",
    "df[\"발생건수\"] = pd.to_numeric(df[\"발생건수 (건)\"], errors=\"coerce\")\n",
    "df[\"사망자수\"] = pd.to_numeric(df[\"사망자수 (명)\"], errors=\"coerce\")\n",
    "df[\"부상자수\"] = pd.to_numeric(df[\"부상자수 (명)\"], errors=\"coerce\")\n",
    "\n",
    "# -------------------\n",
    "# 4. 위험도 점수 계산(사고가 많을수록 점수가 높음))\n",
    "# -------------------\n",
    "scaler = MinMaxScaler(feature_range=(0, 100))\n",
    "scaled_values = scaler.fit_transform(df[[\"발생건수\", \"사망자수\", \"부상자수\"]])\n",
    "\n",
    "df[[\"traaccident_count_score\", \"traaccident_death_score\", \"traaccident_injury_score\"]] = scaled_values\n",
    "\n",
    "# 최종 위험도 점수 (평균)\n",
    "df[\"traaccident_score\"] = df[[\n",
    "    \"traaccident_count_score\",\n",
    "    \"traaccident_death_score\",\n",
    "    \"traaccident_injury_score\"\n",
    "]].mean(axis=1)\n",
    "\n",
    "# -------------------\n",
    "# 5. 필요한 결과만 정리\n",
    "# -------------------\n",
    "result = df[[\"자치구\", \"발생건수\", \"사망자수\", \"부상자수\", \"traaccident_score\"]].copy()\n",
    "result.rename(columns={\"자치구\": \"gu\"}, inplace=True)\n",
    "\n",
    "# -------------------\n",
    "# 6. CSV 저장\n",
    "# -------------------\n",
    "result.to_csv(\"../../result/TRA/TRA-TRAACCIDENT_result.csv\", index=False, encoding=\"utf-8-sig\")\n",
    "\n",
    "print(result.head())"
   ]
  }
 ],
 "metadata": {
  "kernelspec": {
   "display_name": "yein",
   "language": "python",
   "name": "python3"
  },
  "language_info": {
   "codemirror_mode": {
    "name": "ipython",
    "version": 3
   },
   "file_extension": ".py",
   "mimetype": "text/x-python",
   "name": "python",
   "nbconvert_exporter": "python",
   "pygments_lexer": "ipython3",
   "version": "3.11.13"
  }
 },
 "nbformat": 4,
 "nbformat_minor": 5
}
