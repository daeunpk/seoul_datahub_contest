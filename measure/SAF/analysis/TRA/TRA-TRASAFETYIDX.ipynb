{
 "cells": [
  {
   "cell_type": "code",
   "execution_count": 1,
   "id": "4220c2d0",
   "metadata": {},
   "outputs": [],
   "source": [
    "import pandas as pd\n",
    "from sklearn.preprocessing import MinMaxScaler"
   ]
  },
  {
   "cell_type": "code",
   "execution_count": 2,
   "id": "307f83aa",
   "metadata": {},
   "outputs": [
    {
     "name": "stdout",
     "output_type": "stream",
     "text": [
      "   자치구  교통사고위험도_raw  교통사고위험도_score\n",
      "0  종로구        23.64      50.840336\n",
      "1   중구        24.14      54.341737\n",
      "2  용산구        21.02      32.492997\n",
      "3  성동구        17.90      10.644258\n",
      "4  광진구        16.38       0.000000\n"
     ]
    }
   ],
   "source": [
    "# -------------------\n",
    "# 1. 데이터 불러오기\n",
    "# -------------------\n",
    "file_path = \"../../data/TRA-TRASAFETYIDX/TRA-TRASAFETYIDX.csv\"\n",
    "df = pd.read_csv(file_path)\n",
    "\n",
    "# -------------------\n",
    "# 2. 2023년 교통안전지수 → 위험도 변환\n",
    "# -------------------\n",
    "df[\"교통사고위험도_raw\"] = 100 - df[\"2023\"]\n",
    "\n",
    "# -------------------\n",
    "# 3. MinMax Scaling (0~100점)\n",
    "# -------------------\n",
    "scaler = MinMaxScaler(feature_range=(0, 100))\n",
    "df[\"교통사고위험도_score\"] = scaler.fit_transform(df[[\"교통사고위험도_raw\"]])\n",
    "\n",
    "# -------------------\n",
    "# 4. 최종 결과 정리\n",
    "# -------------------\n",
    "result = df[[\"자치구\", \"교통사고위험도_raw\", \"교통사고위험도_score\"]]\n",
    "\n",
    "print(result.head())\n",
    "\n",
    "# CSV 저장 (선택)\n",
    "result.to_csv(\"../../result/TRA/TRA-TRASAFETYIDX_result.csv\", index=False, encoding=\"utf-8-sig\")"
   ]
  }
 ],
 "metadata": {
  "kernelspec": {
   "display_name": "yein",
   "language": "python",
   "name": "python3"
  },
  "language_info": {
   "codemirror_mode": {
    "name": "ipython",
    "version": 3
   },
   "file_extension": ".py",
   "mimetype": "text/x-python",
   "name": "python",
   "nbconvert_exporter": "python",
   "pygments_lexer": "ipython3",
   "version": "3.11.13"
  }
 },
 "nbformat": 4,
 "nbformat_minor": 5
}
