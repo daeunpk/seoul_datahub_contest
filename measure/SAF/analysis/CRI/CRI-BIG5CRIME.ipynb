{
 "cells": [
  {
   "cell_type": "code",
   "execution_count": 23,
   "id": "2dd8e8e3",
   "metadata": {},
   "outputs": [
    {
     "name": "stdout",
     "output_type": "stream",
     "text": [
      "   구이름  big5crime_occurrence  big5crime_occurrence_score  big5crime_arrest_rate  big5crime_arrest_score\n",
      "1  종로구                  2981                   21.891780             116.907078              100.000000\n",
      "2   중구                  3348                   29.471293              73.626045               13.743847\n",
      "3  용산구                  3021                   22.717885              75.074479               16.630476\n",
      "4  성동구                  2023                    2.106568              69.747899                6.014966\n",
      "5  광진구                  3424                   31.040892              68.136682                2.803920\n"
     ]
    }
   ],
   "source": [
    "import pandas as pd\n",
    "from sklearn.preprocessing import MinMaxScaler\n",
    "\n",
    "# -------------------\n",
    "# 1. 데이터 불러오기\n",
    "# -------------------\n",
    "file_path = \"../../data/CRI-BIG5CRIME/CRI-BIG5CRIME.csv\"\n",
    "df = pd.read_csv(file_path)\n",
    "\n",
    "# -------------------\n",
    "# 2. 자치구별 정제\n",
    "# -------------------\n",
    "# 실제 자치구명만 남기기 (합계, 소계 제외)\n",
    "df = df[~df[\"자치구\"].isin([\"합계\", \"소계\", \"전체\"])].copy()\n",
    "\n",
    "# -------------------\n",
    "# 3. 발생 건수 & 검거율 계산\n",
    "# -------------------\n",
    "df[\"big5crime_occurrence\"] = pd.to_numeric(df[\"합계 발생\"], errors=\"coerce\")\n",
    "df[\"big5crime_arrest_rate\"] = (pd.to_numeric(df[\"합계 검거\"], errors=\"coerce\") /\n",
    "                               df[\"big5crime_occurrence\"]) * 100\n",
    "\n",
    "# -------------------\n",
    "# 4. 점수화 (MinMax Scaling)\n",
    "# -------------------\n",
    "scaler = MinMaxScaler(feature_range=(0, 100))\n",
    "\n",
    "# 발생 건수 점수 (많을수록 위험 ↑)\n",
    "df[\"big5crime_occurrence_score\"] = scaler.fit_transform(df[[\"big5crime_occurrence\"]])\n",
    "\n",
    "# 검거율 점수 (높을수록 안전 ↑)\n",
    "df[\"big5crime_arrest_score\"] = scaler.fit_transform(df[[\"big5crime_arrest_rate\"]])\n",
    "\n",
    "# -------------------\n",
    "# 5. 최종 결과 정리\n",
    "# -------------------\n",
    "result = df[[\"자치구\", \n",
    "             \"big5crime_occurrence\", \"big5crime_occurrence_score\",\n",
    "             \"big5crime_arrest_rate\", \"big5crime_arrest_score\"]]\n",
    "\n",
    "result = result.rename(columns={\"자치구\": \"구이름\"})\n",
    "\n",
    "print(result.head())\n",
    "\n",
    "\n",
    "\n",
    "\n",
    "# CSV 저장\n",
    "result.to_csv(\"../../result/CRI/CRI-BIG5CRIME_result.csv\", index=False, encoding=\"utf-8-sig\")\n"
   ]
  }
 ],
 "metadata": {
  "kernelspec": {
   "display_name": "yein",
   "language": "python",
   "name": "python3"
  },
  "language_info": {
   "codemirror_mode": {
    "name": "ipython",
    "version": 3
   },
   "file_extension": ".py",
   "mimetype": "text/x-python",
   "name": "python",
   "nbconvert_exporter": "python",
   "pygments_lexer": "ipython3",
   "version": "3.11.13"
  }
 },
 "nbformat": 4,
 "nbformat_minor": 5
}
