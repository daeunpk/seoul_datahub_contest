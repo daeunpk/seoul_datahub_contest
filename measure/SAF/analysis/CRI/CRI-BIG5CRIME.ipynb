{
 "cells": [
  {
   "cell_type": "code",
   "execution_count": 3,
   "id": "70191ad9",
   "metadata": {},
   "outputs": [],
   "source": [
    "# import sys, os\n",
    "# sys.path.append(os.path.abspath(\"..\"))  # notebooks/ 안에서 실행 시 상위 폴더(project 루트)를 추가"
   ]
  },
  {
   "cell_type": "code",
   "execution_count": 4,
   "id": "e9106b1a",
   "metadata": {},
   "outputs": [
    {
     "ename": "ModuleNotFoundError",
     "evalue": "No module named 'utils'",
     "output_type": "error",
     "traceback": [
      "\u001b[31m---------------------------------------------------------------------------\u001b[39m",
      "\u001b[31mModuleNotFoundError\u001b[39m                       Traceback (most recent call last)",
      "\u001b[36mCell\u001b[39m\u001b[36m \u001b[39m\u001b[32mIn[4]\u001b[39m\u001b[32m, line 2\u001b[39m\n\u001b[32m      1\u001b[39m \u001b[38;5;28;01mimport\u001b[39;00m\u001b[38;5;250m \u001b[39m\u001b[34;01mpandas\u001b[39;00m\u001b[38;5;250m \u001b[39m\u001b[38;5;28;01mas\u001b[39;00m\u001b[38;5;250m \u001b[39m\u001b[34;01mpd\u001b[39;00m\n\u001b[32m----> \u001b[39m\u001b[32m2\u001b[39m \u001b[38;5;28;01mfrom\u001b[39;00m\u001b[38;5;250m \u001b[39m\u001b[34;01mutils\u001b[39;00m\u001b[34;01m.\u001b[39;00m\u001b[34;01mpreprocess\u001b[39;00m\u001b[38;5;250m \u001b[39m\u001b[38;5;28;01mimport\u001b[39;00m standardize_gu\n\u001b[32m      3\u001b[39m \u001b[38;5;28;01mfrom\u001b[39;00m\u001b[38;5;250m \u001b[39m\u001b[34;01mutils\u001b[39;00m\u001b[34;01m.\u001b[39;00m\u001b[34;01mmetrics\u001b[39;00m\u001b[38;5;250m \u001b[39m\u001b[38;5;28;01mimport\u001b[39;00m minmax\n\u001b[32m      5\u001b[39m \u001b[38;5;66;03m# 데이터 불러오기\u001b[39;00m\n",
      "\u001b[31mModuleNotFoundError\u001b[39m: No module named 'utils'"
     ]
    }
   ],
   "source": [
    "import pandas as pd\n",
    "from utils.preprocess import standardize_gu\n",
    "from utils.metrics import minmax\n",
    "\n",
    "# 데이터 불러오기\n",
    "df = pd.read_csv(\"../SAF/data/RST-COLDSHELTER/RST-COLDSHELTER.csv\")\n",
    "\n",
    "# 구 표준화\n",
    "d = standardize_gu(df)\n",
    "\n",
    "# 지표 산출\n",
    "agg = (\n",
    "    d.groupby(\"구\")\n",
    "     .agg(\n",
    "         cold_shelter_count=('순번','nunique'),\n",
    "         cold_capacity_sum=('이용가능인원','sum'),\n",
    "         cold_area_sum=('시설면적','sum')\n",
    "     )\n",
    "     .reset_index()\n",
    ")\n",
    "\n",
    "# 정규화 예시\n",
    "agg[\"cold_capacity_norm\"] = minmax(agg[\"cold_capacity_sum\"])\n"
   ]
  }
 ],
 "metadata": {
  "kernelspec": {
   "display_name": "yein",
   "language": "python",
   "name": "python3"
  },
  "language_info": {
   "codemirror_mode": {
    "name": "ipython",
    "version": 3
   },
   "file_extension": ".py",
   "mimetype": "text/x-python",
   "name": "python",
   "nbconvert_exporter": "python",
   "pygments_lexer": "ipython3",
   "version": "3.11.13"
  }
 },
 "nbformat": 4,
 "nbformat_minor": 5
}
