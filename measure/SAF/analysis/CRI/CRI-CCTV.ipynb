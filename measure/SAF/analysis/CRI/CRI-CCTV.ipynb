{
 "cells": [
  {
   "cell_type": "code",
   "execution_count": 3,
   "id": "402ca6c0",
   "metadata": {},
   "outputs": [
    {
     "name": "stdout",
     "output_type": "stream",
     "text": [
      "   구이름  cctv_count  cctv_score\n",
      "1  종로구        2339    0.000000\n",
      "2   중구        3118   12.955264\n",
      "3  용산구        3609   21.120905\n",
      "4  성동구        4638   38.233827\n",
      "5  광진구        4636   38.200565\n"
     ]
    }
   ],
   "source": [
    "import pandas as pd\n",
    "from sklearn.preprocessing import MinMaxScaler\n",
    "\n",
    "# -------------------\n",
    "# 1. 데이터 불러오기\n",
    "# -------------------\n",
    "file_path = \"../../data/CRI-CCTV/CRI-CCTV.csv\"\n",
    "df = pd.read_csv(file_path)\n",
    "\n",
    "# -------------------\n",
    "# 2. 자치구별 정제\n",
    "# -------------------\n",
    "# 합계 행 제거\n",
    "df = df[df[\"자치구\"] != \"합계\"].copy()\n",
    "\n",
    "# CCTV 총계 숫자로 변환 (쉼표 제거)\n",
    "df[\"CCTV 총계\"] = df[\"CCTV 총계\"].str.replace(\",\", \"\").astype(int)\n",
    "\n",
    "# -------------------\n",
    "# 3. 점수화 (MinMax Scaling)\n",
    "# -------------------\n",
    "scaler = MinMaxScaler(feature_range=(0, 100))\n",
    "df[\"cctv_score\"] = scaler.fit_transform(df[[\"CCTV 총계\"]])\n",
    "\n",
    "# -------------------\n",
    "# 4. 최종 결과 정리\n",
    "# -------------------\n",
    "result = df.rename(columns={\"자치구\": \"구이름\",\n",
    "                            \"CCTV 총계\": \"cctv_count\"})\n",
    "\n",
    "result = result[[\"구이름\", \"cctv_count\", \"cctv_score\"]]\n",
    "\n",
    "print(result.head())\n",
    "\n",
    "# -------------------\n",
    "# 5. CSV 저장\n",
    "# -------------------\n",
    "result.to_csv(\"../../result/CRI/CRI-CCTV_result.csv\", index=False, encoding=\"utf-8-sig\")\n"
   ]
  }
 ],
 "metadata": {
  "kernelspec": {
   "display_name": "yein",
   "language": "python",
   "name": "python3"
  },
  "language_info": {
   "codemirror_mode": {
    "name": "ipython",
    "version": 3
   },
   "file_extension": ".py",
   "mimetype": "text/x-python",
   "name": "python",
   "nbconvert_exporter": "python",
   "pygments_lexer": "ipython3",
   "version": "3.11.13"
  }
 },
 "nbformat": 4,
 "nbformat_minor": 5
}
