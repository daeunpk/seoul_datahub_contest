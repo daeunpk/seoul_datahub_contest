{
 "cells": [
  {
   "cell_type": "code",
   "execution_count": 96,
   "id": "3285f6b1",
   "metadata": {},
   "outputs": [],
   "source": [
    "import pandas as pd"
   ]
  },
  {
   "cell_type": "code",
   "execution_count": 97,
   "id": "792ff3aa",
   "metadata": {},
   "outputs": [],
   "source": [
    "# 서울시 25개 자치구 목록\n",
    "all_gu = [\n",
    "    \"도봉구\",\"강북구\",\"노원구\",\"은평구\",\"서대문구\",\n",
    "    \"종로구\",\"성북구\",\"마포구\",\"용산구\",\"중구\",\n",
    "    \"성동구\",\"동대문구\",\"중랑구\",\"광진구\",\"강서구\",\n",
    "    \"양천구\",\"구로구\",\"영등포구\",\"금천구\",\"관악구\",\n",
    "    \"동작구\",\"서초구\",\"강남구\",\"송파구\",\"강동구\"\n",
    "]"
   ]
  },
  {
   "cell_type": "code",
   "execution_count": 98,
   "id": "8e9ceb1c",
   "metadata": {},
   "outputs": [],
   "source": [
    "# -------------------\n",
    "# 1. 개별 결과 불러오기\n",
    "# -------------------\n",
    "cri_big5 = pd.read_csv(\"../result/CRI/CRI-BIG5CRIME_result.csv\")\n",
    "cri_cctv = pd.read_csv(\"../result/CRI/CRI-CCTV_result.csv\")\n",
    "\n",
    "drm_civ = pd.read_csv(\"../result/DRM/DRM-CIVDEF_result.csv\")\n",
    "drm_eme = pd.read_csv(\"../result/DRM/DRM-EMERGWATER_result.csv\")\n",
    "drm_flo = pd.read_csv(\"../result/DRM/DRM-FLOODSHELTER_result.csv\")\n",
    "drm_pms = pd.read_csv(\"../result/DRM/DRM-PMSHELTER_result.csv\")\n",
    "drm_qos = pd.read_csv(\"../result/DRM/DRM-QUAKEOUTSHELTER_result.csv\")\n",
    "drm_qks = pd.read_csv(\"../result/DRM/DRM-QUAKESHELTER_result.csv\")\n",
    "\n",
    "fir_fir = pd.read_csv(\"../result/FIR/FIR-FIRESTATION_result.csv\")\n",
    "\n",
    "med_med = pd.read_csv(\"../result/MED/MED-MEDINST_result.csv\")\n",
    "med_pha = pd.read_csv(\"../result/MED/MED-PHARM_result.csv\")\n",
    "med_phc = pd.read_csv(\"../result/MED/MED-PHCENTER_result.csv\")\n",
    "\n",
    "rst_cli = pd.read_csv(\"../result/RST/RST-CLIMATESHELTER_result.csv\")\n",
    "rst_col = pd.read_csv(\"../result/RST/RST-COLDSHELTER_result.csv\")\n",
    "rst_hea = pd.read_csv(\"../result/RST/RST-HEATSHELTER_result.csv\")\n",
    "rst_lib = pd.read_csv(\"../result/RST/RST-LIBSHELTER_result.csv\")\n",
    "rst_sma = pd.read_csv(\"../result/RST/RST-SMARTSHELTER_result.csv\")\n",
    "\n",
    "tra_sub = pd.read_csv(\"../result/TRA/TRA-SUBCONGEST_result.csv\")\n",
    "tra_acc = pd.read_csv(\"../result/TRA/TRA-TRAACCIDENT_result.csv\")\n",
    "tra_saf = pd.read_csv(\"../result/TRA/TRA-TRASAFETYIDX_result.csv\")"
   ]
  },
  {
   "cell_type": "code",
   "execution_count": 99,
   "id": "244605ee",
   "metadata": {},
   "outputs": [
    {
     "data": {
      "text/plain": [
       "(25,)"
      ]
     },
     "execution_count": 99,
     "metadata": {},
     "output_type": "execute_result"
    }
   ],
   "source": [
    "cri_cctv[\"자치구\"].shape"
   ]
  },
  {
   "cell_type": "code",
   "execution_count": 100,
   "id": "f91600dd",
   "metadata": {},
   "outputs": [],
   "source": [
    "# -------------------\n",
    "# 1. 범죄 점수\n",
    "# -------------------\n",
    "\n",
    "# 1-1. CRI-BIG5CRIME 점수 만들기\n",
    "# (발생 건수 점수와 검거율 점수를 단순 평균)\n",
    "cri_big5[\"big5crime_score\"] = (\n",
    "    cri_big5[\"big5crime_occurrence_score\"] + cri_big5[\"big5crime_arrest_score\"]\n",
    ") / 2\n",
    "\n",
    "# 1-2. CCTV 점수 컬럼 이름 확인 후 정리\n",
    "# (파일에 따라 'score' 또는 다른 이름일 수 있음)\n",
    "cri_cctv = cri_cctv.rename(columns={\"score\": \"cctv_score\"})\n",
    "\n",
    "# 1-3. 자치구 기준 merge\n",
    "cri = cri_big5.merge(cri_cctv, on=\"자치구\")\n",
    "\n",
    "# 1-4. 최종 범죄 점수 (가중 평균: Big5 0.7, CCTV 0.3)\n",
    "cri[\"CRI_score\"] = 0.7 * cri[\"big5crime_score\"] + 0.3 * cri[\"cctv_score\"]"
   ]
  },
  {
   "cell_type": "code",
   "execution_count": 101,
   "id": "1d5f4361",
   "metadata": {},
   "outputs": [
    {
     "name": "stdout",
     "output_type": "stream",
     "text": [
      "자치구 개수: 25\n"
     ]
    }
   ],
   "source": [
    "# 누락된 구 찾아서 추가\n",
    "missing_gus = set(all_gu) - set(cri[\"자치구\"])\n",
    "if missing_gus:\n",
    "    for gu in missing_gus:\n",
    "        cri = pd.concat([cri, pd.DataFrame({\"자치구\":[gu]})], ignore_index=True)\n",
    "\n",
    "# CRI_score 결측치 채우기 (중앙값 사용; 평균으로 바꾸려면 .mean())\n",
    "cri[\"CRI_score\"] = cri[\"CRI_score\"].fillna(cri[\"CRI_score\"].median())\n",
    "\n",
    "# 최종 자치구 개수 확인\n",
    "print(\"자치구 개수:\", cri[\"자치구\"].nunique())  "
   ]
  },
  {
   "cell_type": "code",
   "execution_count": 102,
   "id": "bb9b0f35",
   "metadata": {},
   "outputs": [],
   "source": [
    "# -------------------\n",
    "# 2. 재난 점수\n",
    "# -------------------\n",
    "drm = drm_civ.merge(drm_eme, on=\"자치구\")\n",
    "drm = drm.merge(drm_flo, on=\"자치구\").merge(drm_pms, on=\"자치구\")\n",
    "drm = drm.merge(drm_qos, on=\"자치구\").merge(drm_qks, on=\"자치구\")\n",
    "drm[\"DRM_score\"] = 0.5*((drm[\"civdef_mean_score\"]+drm[\"emergwater_mean_score\"])/2) + \\\n",
    "                   0.5*((drm[\"floodshelter_mean_score\"]+drm[\"pmshelter_mean_score\"]+\n",
    "                         drm[\"quakeoutshelter_mean_score\"]+drm[\"quakeshelter_mean_score\"])/4)"
   ]
  },
  {
   "cell_type": "code",
   "execution_count": 103,
   "id": "a218d4ca",
   "metadata": {},
   "outputs": [
    {
     "name": "stdout",
     "output_type": "stream",
     "text": [
      "자치구 개수: 25\n"
     ]
    }
   ],
   "source": [
    "# 누락된 구 보정\n",
    "missing_gus = set(all_gu) - set(drm[\"자치구\"])\n",
    "if missing_gus:\n",
    "    for gu in missing_gus:\n",
    "        drm = pd.concat([drm, pd.DataFrame({\"자치구\":[gu]})], ignore_index=True)\n",
    "\n",
    "# DRM_score 결측치 채우기 (중앙값 기준, 평균 쓰려면 mean())\n",
    "drm[\"DRM_score\"] = drm[\"DRM_score\"].fillna(drm[\"DRM_score\"].median())\n",
    "\n",
    "# 최종 확인\n",
    "print(\"자치구 개수:\", drm[\"자치구\"].nunique())  # → 반드시 25"
   ]
  },
  {
   "cell_type": "code",
   "execution_count": 104,
   "id": "93f7cd49",
   "metadata": {},
   "outputs": [],
   "source": [
    "# -------------------\n",
    "# 3. 소방 점수\n",
    "# -------------------\n",
    "fir = fir_fir.rename(columns={\"firestation_mean_score\":\"FIR_score\"})"
   ]
  },
  {
   "cell_type": "code",
   "execution_count": 105,
   "id": "5d3273c7",
   "metadata": {},
   "outputs": [
    {
     "name": "stdout",
     "output_type": "stream",
     "text": [
      "자치구 개수: 25\n"
     ]
    }
   ],
   "source": [
    "missing_gus = set(all_gu) - set(fir[\"자치구\"])\n",
    "if missing_gus:\n",
    "    for gu in missing_gus:\n",
    "        fir = pd.concat([fir, pd.DataFrame({\"자치구\":[gu]})], ignore_index=True)\n",
    "\n",
    "# FIR_score 결측치 채우기 (중앙값으로 보정)\n",
    "fir[\"FIR_score\"] = fir[\"FIR_score\"].fillna(fir[\"FIR_score\"].median())\n",
    "\n",
    "# 최종 확인\n",
    "print(\"자치구 개수:\", fir[\"자치구\"].nunique())  # → 반드시 25"
   ]
  },
  {
   "cell_type": "code",
   "execution_count": 106,
   "id": "94820724",
   "metadata": {},
   "outputs": [],
   "source": [
    "# -------------------\n",
    "# 4. 의료 점수\n",
    "# -------------------\n",
    "med = med_med.merge(med_pha, on=\"자치구\").merge(med_phc, on=\"자치구\")\n",
    "med[\"MED_score\"] = 0.5*med[\"medinst_mean_score\"] + \\\n",
    "                   0.25*med[\"pharmacy_score\"] + 0.25*med[\"phcenter_mean_score\"]"
   ]
  },
  {
   "cell_type": "code",
   "execution_count": 107,
   "id": "42559d88",
   "metadata": {},
   "outputs": [
    {
     "name": "stdout",
     "output_type": "stream",
     "text": [
      "자치구 개수: 25\n"
     ]
    }
   ],
   "source": [
    "# 누락된 구 보정\n",
    "missing_gus = set(all_gu) - set(med[\"자치구\"])\n",
    "if missing_gus:\n",
    "    for gu in missing_gus:\n",
    "        med = pd.concat([med, pd.DataFrame({\"자치구\":[gu]})], ignore_index=True)\n",
    "\n",
    "# MED_score 결측치 채우기 (중앙값 보정)\n",
    "med[\"MED_score\"] = med[\"MED_score\"].fillna(med[\"MED_score\"].median())\n",
    "\n",
    "# 최종 확인\n",
    "print(\"자치구 개수:\", med[\"자치구\"].nunique())  # → 반드시 25"
   ]
  },
  {
   "cell_type": "code",
   "execution_count": 108,
   "id": "b636fd2d",
   "metadata": {},
   "outputs": [],
   "source": [
    "# -------------------\n",
    "# 5. 쉼터 점수 - 스마트쉼터는 결측값이 많으므로 제외\n",
    "# -------------------\n",
    "rst = rst_cli.merge(rst_col, on=\"자치구\").merge(rst_hea, on=\"자치구\")\n",
    "rst = rst.merge(rst_lib, on=\"자치구\")\n",
    "rst[\"RST_score\"] = 0.4*rst[\"climateshelter_mean_score\"] + \\\n",
    "                   0.4*rst[\"coldshelter_mean_score\"] + \\\n",
    "                   0.1*rst[\"heatshelter_mean_score\"] + \\\n",
    "                   0.1*rst[\"libshelter_score\"]"
   ]
  },
  {
   "cell_type": "code",
   "execution_count": 109,
   "id": "70a1d174",
   "metadata": {},
   "outputs": [
    {
     "name": "stdout",
     "output_type": "stream",
     "text": [
      "자치구 개수: 25\n"
     ]
    }
   ],
   "source": [
    "# 누락된 구 보정\n",
    "missing_gus = set(all_gu) - set(rst[\"자치구\"])\n",
    "if missing_gus:\n",
    "    for gu in missing_gus:\n",
    "        rst = pd.concat([rst, pd.DataFrame({\"자치구\":[gu]})], ignore_index=True)\n",
    "\n",
    "# RST_score 결측치 채우기 (중앙값 보정)\n",
    "rst[\"RST_score\"] = rst[\"RST_score\"].fillna(rst[\"RST_score\"].median())\n",
    "\n",
    "# 최종 확인\n",
    "print(\"자치구 개수:\", rst[\"자치구\"].nunique())  # → 반드시 25"
   ]
  },
  {
   "cell_type": "code",
   "execution_count": 110,
   "id": "2c579ef7",
   "metadata": {},
   "outputs": [],
   "source": [
    "# -------------------\n",
    "# 6. 교통 점수\n",
    "# -------------------\n",
    "tra = tra_sub.merge(tra_acc, on=\"자치구\").merge(tra_saf, on=\"자치구\")\n",
    "tra[\"TRA_score\"] = 0.6*tra[\"교통사고위험도_score\"] + \\\n",
    "                   0.3*tra[\"traaccident_score\"] + 0.1*tra[\"subway_congest_score\"]"
   ]
  },
  {
   "cell_type": "code",
   "execution_count": 111,
   "id": "8b0f6f9d",
   "metadata": {},
   "outputs": [
    {
     "name": "stdout",
     "output_type": "stream",
     "text": [
      "자치구 개수: 25\n"
     ]
    }
   ],
   "source": [
    "# 누락된 구 보정\n",
    "missing_gus = set(all_gu) - set(tra[\"자치구\"])\n",
    "if missing_gus:\n",
    "    for gu in missing_gus:\n",
    "        tra = pd.concat([tra, pd.DataFrame({\"자치구\":[gu]})], ignore_index=True)\n",
    "\n",
    "# TRA_score 결측치 채우기 (중앙값 보정)\n",
    "tra[\"TRA_score\"] = tra[\"TRA_score\"].fillna(tra[\"TRA_score\"].median())\n",
    "\n",
    "# 최종 확인\n",
    "print(\"자치구 개수:\", tra[\"자치구\"].nunique())  # → 반드시 25"
   ]
  },
  {
   "cell_type": "code",
   "execution_count": 112,
   "id": "5e6874aa",
   "metadata": {},
   "outputs": [],
   "source": [
    "# -------------------\n",
    "# 7. 최종 통합\n",
    "# -------------------\n",
    "dfs = [cri[[\"자치구\", \"CRI_score\"]],\n",
    "       drm[[\"자치구\", \"DRM_score\"]],\n",
    "       fir[[\"자치구\", \"FIR_score\"]],\n",
    "       med[[\"자치구\", \"MED_score\"]],\n",
    "       rst[[\"자치구\", \"RST_score\"]],\n",
    "       tra[[\"자치구\", \"TRA_score\"]]]"
   ]
  },
  {
   "cell_type": "code",
   "execution_count": 113,
   "id": "c8b0a68a",
   "metadata": {},
   "outputs": [],
   "source": [
    "final = dfs[0]\n",
    "for df in dfs[1:]:\n",
    "    final = final.merge(df, on=\"자치구\")\n",
    "\n",
    "final[\"safety_score\"] = (0.2*final[\"CRI_score\"] +\n",
    "                       0.25*final[\"DRM_score\"] +\n",
    "                       0.25*final[\"TRA_score\"] +\n",
    "                       0.1*final[\"FIR_score\"] +\n",
    "                       0.1*final[\"MED_score\"] +\n",
    "                       0.1*final[\"RST_score\"])"
   ]
  },
  {
   "cell_type": "code",
   "execution_count": 114,
   "id": "622fc011",
   "metadata": {},
   "outputs": [
    {
     "data": {
      "text/plain": [
       "(25,)"
      ]
     },
     "execution_count": 114,
     "metadata": {},
     "output_type": "execute_result"
    }
   ],
   "source": [
    "final[\"자치구\"].shape"
   ]
  },
  {
   "cell_type": "code",
   "execution_count": 115,
   "id": "aa6786ed",
   "metadata": {},
   "outputs": [],
   "source": [
    "# -------------------\n",
    "# 8. 결과 저장\n",
    "# -------------------\n",
    "final.to_csv(\"../result/safety_total_score.csv\", index=False)"
   ]
  }
 ],
 "metadata": {
  "kernelspec": {
   "display_name": "seoul_datahub",
   "language": "python",
   "name": "python3"
  },
  "language_info": {
   "codemirror_mode": {
    "name": "ipython",
    "version": 3
   },
   "file_extension": ".py",
   "mimetype": "text/x-python",
   "name": "python",
   "nbconvert_exporter": "python",
   "pygments_lexer": "ipython3",
   "version": "3.11.13"
  }
 },
 "nbformat": 4,
 "nbformat_minor": 5
}
