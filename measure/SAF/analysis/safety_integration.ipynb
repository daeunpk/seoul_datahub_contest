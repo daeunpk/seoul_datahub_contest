{
 "cells": [
  {
   "cell_type": "code",
   "execution_count": 2,
   "id": "3285f6b1",
   "metadata": {},
   "outputs": [],
   "source": [
    "import pandas as pd\n",
    "\n",
    "# -------------------\n",
    "# 1. 개별 결과 불러오기\n",
    "# -------------------\n",
    "cri_big5 = pd.read_csv(\"../result/CRI/CRI-BIG5CRIME_result.csv\")\n",
    "cri_cctv = pd.read_csv(\"../result/CRI/CRI-CCTV_result.csv\")"
   ]
  },
  {
   "cell_type": "code",
   "execution_count": 5,
   "id": "043621b2",
   "metadata": {},
   "outputs": [],
   "source": [
    "drm_civ = pd.read_csv(\"../result/DRM/DRM-CIVDEF_result.csv\")\n",
    "drm_eme = pd.read_csv(\"../result/DRM/DRM-EMERGWATER_result.csv\")\n",
    "drm_flo = pd.read_csv(\"../result/DRM/DRM-FLOODSHELTER_result.csv\")\n",
    "drm_pms = pd.read_csv(\"../result/DRM/DRM-PMSHELTER_result.csv\")\n",
    "drm_quo = pd.read_csv(\"../result/DRM/DRM-QUAKEOUTSHELTER_result.csv\")\n",
    "drm_qua = pd.read_csv(\"../result/DRM/DRM-QUAKESHELTER_result.csv\")"
   ]
  },
  {
   "cell_type": "code",
   "execution_count": null,
   "id": "c2ee8408",
   "metadata": {},
   "outputs": [],
   "source": [
    "# -------------------\n",
    "# 2. 필요한 점수만 추출\n",
    "# -------------------\n",
    "dfs = [                   \n",
    "    rst_climate[[\"구이름\",\"climateshelter_score\"]],\n",
    "    rst_lib[[\"구이름\",\"libshelter_score\"]],\n",
    "    rst_smart[[\"구이름\",\"smartshelter_score\"]],\n",
    "    tra_sub[[\"구이름\",\"subcongest_score\"]],\n",
    "    tra_acc[[\"구이름\",\"traaccident_score\"]],\n",
    "    tra_safe[[\"구이름\",\"trasafetyidx_score\"]],\n",
    "    cri_big5[[\"구이름\",\"big5crime_occurrence_score\",\"big5crime_arrest_score\"]],\n",
    "    cri_cctv[[\"구이름\",\"cctv_score\"]]\n",
    "]\n"
   ]
  },
  {
   "cell_type": "code",
   "execution_count": null,
   "id": "3448e603",
   "metadata": {},
   "outputs": [],
   "source": [
    "# 병합\n",
    "from functools import reduce\n",
    "merged = reduce(lambda left, right: pd.merge(left, right, on=\"구이름\", how=\"outer\"), dfs)"
   ]
  },
  {
   "cell_type": "code",
   "execution_count": null,
   "id": "be175587",
   "metadata": {},
   "outputs": [],
   "source": [
    "# -------------------\n",
    "# 3. 하위 분야별 평균 점수\n",
    "# -------------------\n",
    "merged[\"RST_score\"] = merged[[\"climateshelter_score\",\"libshelter_score\",\"smartshelter_score\"]].mean(axis=1)\n",
    "merged[\"TRA_score\"] = merged[[\"subcongest_score\",\"traaccident_score\",\"trasafetyidx_score\"]].mean(axis=1)\n",
    "merged[\"CRI_score\"] = merged[[\"big5crime_occurrence_score\",\"big5crime_arrest_score\",\"cctv_score\"]].mean(axis=1)"
   ]
  },
  {
   "cell_type": "code",
   "execution_count": null,
   "id": "ebcc6927",
   "metadata": {},
   "outputs": [],
   "source": [
    "# -------------------\n",
    "# 4. 최종 SAFETY 점수\n",
    "# -------------------\n",
    "merged[\"SAFETY_total\"] = merged[[\"RST_score\",\"TRA_score\",\"CRI_score\"]].mean(axis=1)"
   ]
  },
  {
   "cell_type": "code",
   "execution_count": null,
   "id": "39908a35",
   "metadata": {},
   "outputs": [],
   "source": [
    "# -------------------\n",
    "# 5. 저장\n",
    "# -------------------\n",
    "merged.to_csv(\"FINAL_SAFETY_SCORE.csv\", index=False, encoding=\"utf-8-sig\")\n",
    "print(merged.head())"
   ]
  }
 ],
 "metadata": {
  "kernelspec": {
   "display_name": "yein",
   "language": "python",
   "name": "python3"
  },
  "language_info": {
   "codemirror_mode": {
    "name": "ipython",
    "version": 3
   },
   "file_extension": ".py",
   "mimetype": "text/x-python",
   "name": "python",
   "nbconvert_exporter": "python",
   "pygments_lexer": "ipython3",
   "version": "3.11.13"
  }
 },
 "nbformat": 4,
 "nbformat_minor": 5
}
