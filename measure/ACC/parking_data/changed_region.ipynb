{
 "cells": [
  {
   "cell_type": "code",
   "execution_count": null,
   "id": "c73d40e9",
   "metadata": {},
   "outputs": [],
   "source": [
    "import json\n",
    "\n",
    "# current data\n",
    "with open(\"parking_nonhangang.json\", \"r\", encoding=\"utf-8\") as f:\n",
    "    current_data=json.load(f)\n",
    "\n",
    "# reference data\n",
    "with open(\"../walking_time_data/parks_accessibility_nonhangang.json\", \"r\", encoding=\"utf-8\") as f:\n",
    "    reference_data=json.load(f)\n",
    "\n",
    "# 큰 딕셔너리 안에 있는 경우 이 방법 실행 안됨. string indices가 문자열이 아니라 정수가 되어야 함. \n",
    "# ref_dict={item[\"공원명\"]: item.get(\"구\") for item in reference_data}\n",
    "\n",
    "for park_name, park_info in current_data.items():\n",
    "    if park_info.get(\"구\") is None:\n",
    "        if park_name in reference_data:\n",
    "            ref_gu=reference_data[park_name].get(\"구\")\n",
    "            if ref_gu is not None:\n",
    "                park_info[\"구\"]=ref_gu\n",
    "\n",
    "# 저장\n",
    "with open (\"parking_nonhangang_final.json\", \"w\", encoding=\"utf-8\") as f:\n",
    "    json.dump(current_data, f, ensure_ascii=False, indent=2)"
   ]
  }
 ],
 "metadata": {
  "kernelspec": {
   "display_name": "base",
   "language": "python",
   "name": "python3"
  },
  "language_info": {
   "codemirror_mode": {
    "name": "ipython",
    "version": 3
   },
   "file_extension": ".py",
   "mimetype": "text/x-python",
   "name": "python",
   "nbconvert_exporter": "python",
   "pygments_lexer": "ipython3",
   "version": "3.12.7"
  }
 },
 "nbformat": 4,
 "nbformat_minor": 5
}
