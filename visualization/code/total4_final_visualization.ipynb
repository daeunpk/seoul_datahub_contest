{
 "cells": [
  {
   "cell_type": "code",
   "execution_count": 24,
   "id": "942cadde",
   "metadata": {},
   "outputs": [],
   "source": [
    "import folium\n",
    "import geopandas as gpd\n",
    "import pandas as pd\n",
    "import matplotlib.pyplot as plt\n",
    "from matplotlib import colors"
   ]
  },
  {
   "cell_type": "code",
   "execution_count": 25,
   "id": "9a0b8734",
   "metadata": {},
   "outputs": [],
   "source": [
    "# -----------------------------\n",
    "# 1. CSV 불러오기\n",
    "# -----------------------------\n",
    "hangang_df = pd.read_csv(\"../../hangang_total4_final.csv\")\n",
    "nonhangang_df = pd.read_csv(\"../../nonhangang_total4_final.csv\")"
   ]
  },
  {
   "cell_type": "code",
   "execution_count": 26,
   "id": "dfd42ce7",
   "metadata": {},
   "outputs": [],
   "source": [
    "# -----------------------------\n",
    "# 2. GeoDataFrame 불러오기\n",
    "# -----------------------------\n",
    "gu = gpd.read_file(\"../../map/result/gu.gpkg\", layer=\"gu\").to_crs(4326)\n",
    "parks = gpd.read_file(\"../../map/result/parks.gpkg\", layer=\"hangang_parks\").to_crs(4326)"
   ]
  },
  {
   "cell_type": "code",
   "execution_count": 27,
   "id": "31a1891a",
   "metadata": {},
   "outputs": [],
   "source": [
    "# -----------------------------\n",
    "# 3. merge\n",
    "# -----------------------------\n",
    "# 자치구별 CRI_score\n",
    "gu = gu.merge(\n",
    "    nonhangang_df[[\"자치구\", \"Score_Z_Transformed\"]],\n",
    "    left_on=\"SIGUNGU_NM\",\n",
    "    right_on=\"자치구\",\n",
    "    how=\"left\"\n",
    ").drop(columns=[\"자치구\"])\n"
   ]
  },
  {
   "cell_type": "code",
   "execution_count": 28,
   "id": "18e98e1d",
   "metadata": {},
   "outputs": [],
   "source": [
    "# 한강공원: park_name 영문 → 한글 변환\n",
    "park_name_map = {\n",
    "    \"Banpo\": \"반포한강공원\", \"Gangseo\": \"강서한강공원\", \"Gwangnaru\": \"광나루한강공원\",\n",
    "    \"Ichon\": \"이촌한강공원\", \"Jamsil\": \"잠실한강공원\", \"Jamwon\": \"잠원한강공원\",\n",
    "    \"Mangwon\": \"망원한강공원\", \"Nanji\": \"난지한강공원\", \"Ttukseom\": \"뚝섬한강공원\",\n",
    "    \"Yanghwa\": \"양화한강공원\", \"Yeouido\": \"여의도한강공원\"\n",
    "}\n",
    "parks[\"park_name\"] = parks[\"park_name\"].map(park_name_map)\n",
    "\n",
    "# 공원명 Score_Z_Transformed merge\n",
    "parks = parks.merge(\n",
    "    hangang_df[[\"공원명\", \"Score_Z_Transformed\"]],\n",
    "    left_on=\"park_name\",\n",
    "    right_on=\"공원명\",\n",
    "    how=\"left\"\n",
    ").drop(columns=[\"공원명\"])"
   ]
  },
  {
   "cell_type": "code",
   "execution_count": 29,
   "id": "ee15dc3b",
   "metadata": {},
   "outputs": [
    {
     "data": {
      "text/plain": [
       "<folium.features.GeoJson at 0x1046bea90>"
      ]
     },
     "execution_count": 29,
     "metadata": {},
     "output_type": "execute_result"
    }
   ],
   "source": [
    "# -----------------------------\n",
    "# 4. colormap (구 + 공원 전체 기준)\n",
    "# -----------------------------\n",
    "all_min = min(gu[\"Score_Z_Transformed\"].min(), parks[\"Score_Z_Transformed\"].min())\n",
    "all_max = max(gu[\"Score_Z_Transformed\"].max(), parks[\"Score_Z_Transformed\"].max())\n",
    "\n",
    "cmap = plt.cm.Blues\n",
    "norm = colors.Normalize(vmin=all_min, vmax=all_max)\n",
    "\n",
    "# -----------------------------\n",
    "# 5. folium 지도 생성\n",
    "# -----------------------------\n",
    "m = folium.Map(location=[37.5665,126.9780], zoom_start=11, tiles=\"CartoDB positron\")\n",
    "\n",
    "# 자치구 레이어\n",
    "folium.GeoJson(\n",
    "    gu,\n",
    "    style_function=lambda f: {\n",
    "        \"fillColor\": \"#eeeeee\" if pd.isna(f[\"properties\"][\"Score_Z_Transformed\"]) else \n",
    "                     colors.rgb2hex(cmap(norm(f[\"properties\"][\"Score_Z_Transformed\"]))),\n",
    "        \"color\": \"#666\",\n",
    "        \"weight\": 1.2,\n",
    "        \"fillOpacity\": 1\n",
    "    },\n",
    "    tooltip=folium.GeoJsonTooltip(\n",
    "        fields=[\"SIGUNGU_NM\", \"Score_Z_Transformed\"],\n",
    "        aliases=[\"자치구\", \"생태관광 점수\"]\n",
    "    )\n",
    ").add_to(m)\n",
    "\n",
    "# 한강공원 레이어\n",
    "folium.GeoJson(\n",
    "    parks,\n",
    "    name=\"한강공원\",\n",
    "    style_function=lambda f: {\n",
    "        \"fillColor\": \"#eeeeee\" if pd.isna(f[\"properties\"][\"Score_Z_Transformed\"]) else \n",
    "                     colors.rgb2hex(cmap(norm(f[\"properties\"][\"Score_Z_Transformed\"]))),\n",
    "        \"color\": \"#666\",\n",
    "        \"weight\": 1.2,\n",
    "        \"fillOpacity\": 1\n",
    "    },\n",
    "    tooltip=folium.GeoJsonTooltip(\n",
    "        fields=[\"park_name\", \"Score_Z_Transformed\"],\n",
    "        aliases=[\"공원\", \"생태관광 점수\"]\n",
    "    )\n",
    ").add_to(m)"
   ]
  },
  {
   "cell_type": "code",
   "execution_count": 30,
   "id": "b46669ba",
   "metadata": {},
   "outputs": [
    {
     "name": "stdout",
     "output_type": "stream",
     "text": [
      "total4_final_visualization.html 저장 완료\n"
     ]
    }
   ],
   "source": [
    "# 저장\n",
    "folium.LayerControl(collapsed=False).add_to(m)\n",
    "m.save(\"../result/total4_final_visualization.html\")\n",
    "print(\"total4_final_visualization.html 저장 완료\")"
   ]
  }
 ],
 "metadata": {
  "kernelspec": {
   "display_name": "seoul_datahub",
   "language": "python",
   "name": "python3"
  },
  "language_info": {
   "codemirror_mode": {
    "name": "ipython",
    "version": 3
   },
   "file_extension": ".py",
   "mimetype": "text/x-python",
   "name": "python",
   "nbconvert_exporter": "python",
   "pygments_lexer": "ipython3",
   "version": "3.11.13"
  }
 },
 "nbformat": 4,
 "nbformat_minor": 5
}
