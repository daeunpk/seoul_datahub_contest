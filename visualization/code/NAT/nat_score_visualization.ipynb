{
 "cells": [
  {
   "cell_type": "code",
   "execution_count": 22,
   "id": "4e86a533",
   "metadata": {},
   "outputs": [],
   "source": [
    "import folium\n",
    "import geopandas as gpd\n",
    "import pandas as pd\n",
    "import matplotlib.pyplot as plt\n",
    "from matplotlib import colors"
   ]
  },
  {
   "cell_type": "code",
   "execution_count": 23,
   "id": "8f210dad",
   "metadata": {},
   "outputs": [],
   "source": [
    "# -----------------------------\n",
    "# 1. CSV 불러오기\n",
    "# -----------------------------\n",
    "hangang_df = pd.read_csv(\"../../../bertopic_results/sentiment/hangang_ranking_topic.csv\")\n",
    "nonhangang_df = pd.read_csv(\"../../../bertopic_results/sentiment/nonhangang_area_ranking_topic.csv\")\n",
    "\n",
    "# -----------------------------\n",
    "# 2. GeoDataFrame 불러오기\n",
    "# -----------------------------\n",
    "gu = gpd.read_file(\"../../../map/result/gu.gpkg\", layer=\"gu\").to_crs(4326)\n",
    "parks = gpd.read_file(\"../../../map/result/parks.gpkg\", layer=\"hangang_parks\").to_crs(4326)"
   ]
  },
  {
   "cell_type": "code",
   "execution_count": 24,
   "id": "b6e49feb",
   "metadata": {},
   "outputs": [],
   "source": [
    "# -----------------------------\n",
    "# 3. merge\n",
    "# -----------------------------\n",
    "# 자치구별 여가도_조정점수\n",
    "\n",
    "gu = gu.merge(\n",
    "    nonhangang_df[[\"District\", \"eco_score_std\"]],\n",
    "    left_on=\"SIGUNGU_NM\",\n",
    "    right_on=\"District\",\n",
    "    how=\"left\"\n",
    ").drop(columns=[\"District\"])\n",
    "\n",
    "# 공원명: park_name 영문 → 한글 변환\n",
    "park_name_map = {\n",
    "    \"Banpo\": \"반포한강공원\", \"Gangseo\": \"강서한강공원\", \"Gwangnaru\": \"광나루한강공원\",\n",
    "    \"Ichon\": \"이촌한강공원\", \"Jamsil\": \"잠실한강공원\", \"Jamwon\": \"잠원한강공원\",\n",
    "    \"Mangwon\": \"망원한강공원\", \"Nanji\": \"난지한강공원\", \"Ttukseom\": \"뚝섬한강공원\",\n",
    "    \"Yanghwa\": \"양화한강공원\", \"Yeouido\": \"여의도한강공원\"\n",
    "}\n",
    "parks[\"park_name\"] = parks[\"park_name\"].map(park_name_map)\n"
   ]
  },
  {
   "cell_type": "code",
   "execution_count": 25,
   "id": "1739f76d",
   "metadata": {},
   "outputs": [],
   "source": [
    "# 공원명 종합_여가도_점수 merge\n",
    "parks = parks.merge(\n",
    "    hangang_df[[\"Park_nm\", \"eco_score_std\"]],\n",
    "    left_on=\"park_name\",\n",
    "    right_on=\"Park_nm\",\n",
    "    how=\"left\"\n",
    ").drop(columns=[\"Park_nm\"])\n",
    "\n",
    "# -----------------------------\n",
    "# 4. colormap (구 + 공원 전체 기준)\n",
    "# -----------------------------\n",
    "all_min = min(gu[\"eco_score_std\"].min(), parks[\"eco_score_std\"].min())\n",
    "all_max = max(gu[\"eco_score_std\"].max(), parks[\"eco_score_std\"].max())\n",
    "\n",
    "cmap = plt.cm.Greens\n",
    "norm = colors.Normalize(vmin=all_min, vmax=all_max)"
   ]
  },
  {
   "cell_type": "code",
   "execution_count": 26,
   "id": "e14d9834",
   "metadata": {},
   "outputs": [
    {
     "data": {
      "text/plain": [
       "<folium.features.GeoJson at 0x3425e7350>"
      ]
     },
     "execution_count": 26,
     "metadata": {},
     "output_type": "execute_result"
    }
   ],
   "source": [
    "# -----------------------------\n",
    "# 5. folium 지도 생성\n",
    "# -----------------------------\n",
    "m = folium.Map(location=[37.5665,126.9780], zoom_start=11, tiles=\"CartoDB positron\")\n",
    "\n",
    "# 자치구 레이어\n",
    "folium.GeoJson(\n",
    "    gu,\n",
    "    style_function=lambda f: {\n",
    "        \"fillColor\": \"#eeeeee\" if pd.isna(f[\"properties\"][\"eco_score_std\"]) else \n",
    "                     colors.rgb2hex(cmap(norm(f[\"properties\"][\"eco_score_std\"]))),\n",
    "        \"color\": \"#666\",\n",
    "        \"weight\": 1.2,\n",
    "        \"fillOpacity\": 1\n",
    "    },\n",
    "    tooltip=folium.GeoJsonTooltip(\n",
    "        fields=[\"SIGUNGU_NM\", \"eco_score_std\"],\n",
    "        aliases=[\"자치구\", \"최종 생태경관성 점수\"]\n",
    "    )\n",
    ").add_to(m)\n",
    "\n",
    "# 공원명 레이어\n",
    "folium.GeoJson(\n",
    "    parks,\n",
    "    name=\"공원명\",\n",
    "    style_function=lambda f: {\n",
    "        \"fillColor\": \"#eeeeee\" if pd.isna(f[\"properties\"][\"eco_score_std\"]) else \n",
    "                     colors.rgb2hex(cmap(norm(f[\"properties\"][\"eco_score_std\"]))),\n",
    "        \"color\": \"#666\",\n",
    "        \"weight\": 1.2,\n",
    "        \"fillOpacity\": 1\n",
    "    },\n",
    "    tooltip=folium.GeoJsonTooltip(\n",
    "        fields=[\"park_name\", \"eco_score_std\"],\n",
    "        aliases=[\"공원\", \"최종 생태경관성 점수\"]\n",
    "    )\n",
    ").add_to(m)"
   ]
  },
  {
   "cell_type": "code",
   "execution_count": 27,
   "id": "5aebf903",
   "metadata": {},
   "outputs": [
    {
     "name": "stdout",
     "output_type": "stream",
     "text": [
      "nat_score_visualization.html 저장 완료\n"
     ]
    }
   ],
   "source": [
    "# 저장\n",
    "folium.LayerControl(collapsed=False).add_to(m)\n",
    "m.save(\"../../result/NAT/nat_score_visualization.html\")\n",
    "print(\"nat_score_visualization.html 저장 완료\")"
   ]
  }
 ],
 "metadata": {
  "kernelspec": {
   "display_name": "seoul_datahub",
   "language": "python",
   "name": "python3"
  },
  "language_info": {
   "codemirror_mode": {
    "name": "ipython",
    "version": 3
   },
   "file_extension": ".py",
   "mimetype": "text/x-python",
   "name": "python",
   "nbconvert_exporter": "python",
   "pygments_lexer": "ipython3",
   "version": "3.11.13"
  }
 },
 "nbformat": 4,
 "nbformat_minor": 5
}
