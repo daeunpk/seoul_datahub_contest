{
 "cells": [
  {
   "cell_type": "code",
   "execution_count": 3,
   "id": "c936b683",
   "metadata": {},
   "outputs": [
    {
     "data": {
      "text/plain": [
       "<folium.features.GeoJson at 0x1676a7b10>"
      ]
     },
     "execution_count": 3,
     "metadata": {},
     "output_type": "execute_result"
    }
   ],
   "source": [
    "import folium\n",
    "import geopandas as gpd\n",
    "import pandas as pd\n",
    "import matplotlib.pyplot as plt\n",
    "from matplotlib import colors\n",
    "\n",
    "# -----------------------------\n",
    "# 1. CSV 불러오기\n",
    "# -----------------------------\n",
    "hangang_df = pd.read_csv(\"../../../measure/SAF/result/safety_hangang_total_score.csv\")\n",
    "nonhangang_df = pd.read_csv(\"../../../measure/SAF/result/safety_nonhangang_total_score.csv\")\n",
    "\n",
    "# -----------------------------\n",
    "# 2. GeoDataFrame 불러오기\n",
    "# -----------------------------\n",
    "gu = gpd.read_file(\"../../../map/result/gu.gpkg\", layer=\"gu\").to_crs(4326)\n",
    "parks = gpd.read_file(\"../../../map/result/parks.gpkg\", layer=\"hangang_parks\").to_crs(4326)\n",
    "\n",
    "# -----------------------------\n",
    "# 3. merge\n",
    "# -----------------------------\n",
    "# 자치구별 MED_score\n",
    "gu = gu.merge(\n",
    "    nonhangang_df[[\"자치구\", \"MED_score\"]],\n",
    "    left_on=\"SIGUNGU_NM\",\n",
    "    right_on=\"자치구\",\n",
    "    how=\"left\"\n",
    ").drop(columns=[\"자치구\"])\n",
    "\n",
    "# 한강공원: park_name 영문 → 한글 변환\n",
    "park_name_map = {\n",
    "    \"Banpo\": \"반포한강공원\", \"Gangseo\": \"강서한강공원\", \"Gwangnaru\": \"광나루한강공원\",\n",
    "    \"Ichon\": \"이촌한강공원\", \"Jamsil\": \"잠실한강공원\", \"Jamwon\": \"잠원한강공원\",\n",
    "    \"Mangwon\": \"망원한강공원\", \"Nanji\": \"난지한강공원\", \"Ttukseom\": \"뚝섬한강공원\",\n",
    "    \"Yanghwa\": \"양화한강공원\", \"Yeouido\": \"여의도한강공원\"\n",
    "}\n",
    "parks[\"park_name\"] = parks[\"park_name\"].map(park_name_map)\n",
    "\n",
    "# 한강공원 MED_score merge\n",
    "parks = parks.merge(\n",
    "    hangang_df[[\"한강공원\", \"MED_score\"]],\n",
    "    left_on=\"park_name\",\n",
    "    right_on=\"한강공원\",\n",
    "    how=\"left\"\n",
    ").drop(columns=[\"한강공원\"])\n",
    "\n",
    "# -----------------------------\n",
    "# 4. colormap (구 + 공원 전체 기준)\n",
    "# -----------------------------\n",
    "all_min = min(gu[\"MED_score\"].min(), parks[\"MED_score\"].min())\n",
    "all_max = max(gu[\"MED_score\"].max(), parks[\"MED_score\"].max())\n",
    "\n",
    "cmap = plt.cm.Oranges\n",
    "norm = colors.Normalize(vmin=all_min, vmax=all_max)\n",
    "\n",
    "# -----------------------------\n",
    "# 5. folium 지도 생성\n",
    "# -----------------------------\n",
    "m = folium.Map(location=[37.5665,126.9780], zoom_start=11, tiles=\"CartoDB positron\")\n",
    "\n",
    "# 자치구 레이어\n",
    "folium.GeoJson(\n",
    "    gu,\n",
    "    style_function=lambda f: {\n",
    "        \"fillColor\": \"#eeeeee\" if pd.isna(f[\"properties\"][\"MED_score\"]) else \n",
    "                     colors.rgb2hex(cmap(norm(f[\"properties\"][\"MED_score\"]))),\n",
    "        \"color\": \"#666\",\n",
    "        \"weight\": 1.2,\n",
    "        \"fillOpacity\": 0.6\n",
    "    },\n",
    "    tooltip=folium.GeoJsonTooltip(\n",
    "        fields=[\"SIGUNGU_NM\", \"MED_score\"],\n",
    "        aliases=[\"자치구\", \"의료 점수\"]\n",
    "    )\n",
    ").add_to(m)\n",
    "\n",
    "# 한강공원 레이어\n",
    "folium.GeoJson(\n",
    "    parks,\n",
    "    name=\"한강공원\",\n",
    "    style_function=lambda f: {\n",
    "        \"fillColor\": \"#eeeeee\" if pd.isna(f[\"properties\"][\"MED_score\"]) else \n",
    "                     colors.rgb2hex(cmap(norm(f[\"properties\"][\"MED_score\"]))),\n",
    "        \"color\": \"#666\",\n",
    "        \"weight\": 1.2,\n",
    "        \"fillOpacity\": 0.8\n",
    "    },\n",
    "    tooltip=folium.GeoJsonTooltip(\n",
    "        fields=[\"park_name\", \"MED_score\"],\n",
    "        aliases=[\"공원\", \"의료 점수\"]\n",
    "    )\n",
    ").add_to(m)"
   ]
  },
  {
   "cell_type": "code",
   "execution_count": 4,
   "id": "5d61bc24",
   "metadata": {},
   "outputs": [
    {
     "name": "stdout",
     "output_type": "stream",
     "text": [
      "med_score_visualization.html 저장 완료\n"
     ]
    }
   ],
   "source": [
    "# 저장\n",
    "folium.LayerControl(collapsed=False).add_to(m)\n",
    "m.save(\"../../result/SAF/med_score_visualization.html\")\n",
    "print(\"med_score_visualization.html 저장 완료\")"
   ]
  }
 ],
 "metadata": {
  "kernelspec": {
   "display_name": "seoul_datahub",
   "language": "python",
   "name": "python3"
  },
  "language_info": {
   "codemirror_mode": {
    "name": "ipython",
    "version": 3
   },
   "file_extension": ".py",
   "mimetype": "text/x-python",
   "name": "python",
   "nbconvert_exporter": "python",
   "pygments_lexer": "ipython3",
   "version": "3.11.13"
  }
 },
 "nbformat": 4,
 "nbformat_minor": 5
}
