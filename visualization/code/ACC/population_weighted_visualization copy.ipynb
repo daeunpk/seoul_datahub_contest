{
 "cells": [
  {
   "cell_type": "code",
   "execution_count": 13,
   "id": "b1c40ea6",
   "metadata": {},
   "outputs": [],
   "source": [
    "import json\n",
    "import folium\n",
    "import geopandas as gpd\n",
    "import pandas as pd\n",
    "import matplotlib.pyplot as plt\n",
    "from matplotlib import colors\n",
    "from matplotlib.colors import LogNorm  # 작은 차이도 잘 보이게 로그 스케일 적용"
   ]
  },
  {
   "cell_type": "code",
   "execution_count": 14,
   "id": "387ee6e3",
   "metadata": {},
   "outputs": [],
   "source": [
    "# -----------------------------\n",
    "# 1. CSV 불러오기\n",
    "# -----------------------------\n",
    "hangang_df = pd.read_csv(\"../../../measure/ACC/results/hangang_population_weighted.csv\")\n",
    "nonhangang_df = pd.read_csv(\"../../../measure//ACC/results/nonhangang_population_weighted_district.csv\")"
   ]
  },
  {
   "cell_type": "code",
   "execution_count": 15,
   "id": "17a00f11",
   "metadata": {},
   "outputs": [],
   "source": [
    "# -----------------------------\n",
    "# 2. GeoDataFrame 불러오기\n",
    "# -----------------------------\n",
    "gu = gpd.read_file(\"../../../map/result/gu.gpkg\", layer=\"gu\").to_crs(4326)\n",
    "parks = gpd.read_file(\"../../../map/result/parks.gpkg\", layer=\"hangang_parks\").to_crs(4326)"
   ]
  },
  {
   "cell_type": "code",
   "execution_count": 16,
   "id": "90aee268",
   "metadata": {},
   "outputs": [],
   "source": [
    "# -----------------------------\n",
    "# 3. merge\n",
    "# -----------------------------\n",
    "# 자치구별 종합점수\n",
    "gu = gu.merge(\n",
    "    nonhangang_df[[\"District\", \"인구가중점수_std_mean\"]],\n",
    "    left_on=\"SIGUNGU_NM\",\n",
    "    right_on=\"District\",\n",
    "    how=\"left\"\n",
    ").drop(columns=[\"District\"])\n",
    "\n",
    "# 한강공원: park_name 영문 → 한글 변환\n",
    "park_name_map = {\n",
    "    \"Banpo\": \"반포한강공원\", \"Gangseo\": \"강서한강공원\", \"Gwangnaru\": \"광나루한강공원\",\n",
    "    \"Ichon\": \"이촌한강공원\", \"Jamsil\": \"잠실한강공원\", \"Jamwon\": \"잠원한강공원\",\n",
    "    \"Mangwon\": \"망원한강공원\", \"Nanji\": \"난지한강공원\", \"Ttukseom\": \"뚝섬한강공원\",\n",
    "    \"Yanghwa\": \"양화한강공원\", \"Yeouido\": \"여의도한강공원\"\n",
    "}\n",
    "parks[\"park_name\"] = parks[\"park_name\"].map(park_name_map)\n",
    "\n",
    "# 한강공원 종합점수 merge\n",
    "parks = parks.merge(\n",
    "    hangang_df[[\"공원명\", \"인구가중점수_std\"]],\n",
    "    left_on=\"park_name\",\n",
    "    right_on=\"공원명\",\n",
    "    how=\"left\"\n",
    ").drop(columns=[\"공원명\"])"
   ]
  },
  {
   "cell_type": "code",
   "execution_count": 17,
   "id": "9fd6bd40",
   "metadata": {},
   "outputs": [],
   "source": [
    "# -----------------------------\n",
    "# 4. colormap (구 + 공원 전체 기준)\n",
    "# -----------------------------\n",
    "all_min = min(gu[\"인구가중점수_std_mean\"].min(), parks[\"인구가중점수_std\"].min())\n",
    "all_max = max(gu[\"인구가중점수_std_mean\"].max(), parks[\"인구가중점수_std\"].max())\n",
    "\n",
    "cmap = plt.cm.Purples\n",
    "norm = colors.Normalize(vmin=all_min, vmax=all_max)"
   ]
  },
  {
   "cell_type": "code",
   "execution_count": 18,
   "id": "26a6d4b0",
   "metadata": {},
   "outputs": [
    {
     "data": {
      "text/plain": [
       "<folium.map.LayerControl at 0x3305274d0>"
      ]
     },
     "execution_count": 18,
     "metadata": {},
     "output_type": "execute_result"
    }
   ],
   "source": [
    "# -----------------------------\n",
    "# 5. folium 지도 생성\n",
    "# -----------------------------\n",
    "m = folium.Map(location=[37.5665,126.9780], zoom_start=11, tiles=\"CartoDB positron\")\n",
    "\n",
    "# 자치구 레이어\n",
    "folium.GeoJson(\n",
    "    gu,\n",
    "    style_function=lambda f: {\n",
    "        \"fillColor\": \"#eeeeee\" if pd.isna(f[\"properties\"][\"인구가중점수_std_mean\"]) else \n",
    "                     colors.rgb2hex(cmap(norm(f[\"properties\"][\"인구가중점수_std_mean\"]))),\n",
    "        \"color\": \"#666\",\n",
    "        \"weight\": 1,\n",
    "        \"fillOpacity\": 0.6\n",
    "    },\n",
    "    tooltip=folium.GeoJsonTooltip(\n",
    "        fields=[\"SIGUNGU_NM\", \"인구가중점수_std_mean\"],\n",
    "        aliases=[\"자치구\", \"종합점수\"]\n",
    "    )\n",
    ").add_to(m)\n",
    "\n",
    "# 한강공원 레이어\n",
    "folium.GeoJson(\n",
    "    parks,\n",
    "    name=\"한강공원\",\n",
    "    style_function=lambda f: {\n",
    "        \"fillColor\": \"#eeeeee\" if pd.isna(f[\"properties\"][\"인구가중점수_std\"]) else \n",
    "                     colors.rgb2hex(cmap(norm(f[\"properties\"][\"인구가중점수_std\"]))),\n",
    "        \"color\": \"#666\",\n",
    "        \"weight\": 1.2,\n",
    "        \"fillOpacity\": 0.8\n",
    "    },\n",
    "    tooltip=folium.GeoJsonTooltip(\n",
    "        fields=[\"park_name\", \"인구가중점수_std\"],\n",
    "        aliases=[\"공원\", \"종합점수\"]\n",
    "    )\n",
    ").add_to(m)\n",
    "\n",
    "folium.LayerControl(collapsed=False).add_to(m)"
   ]
  },
  {
   "cell_type": "code",
   "execution_count": 19,
   "id": "eff2208f",
   "metadata": {},
   "outputs": [
    {
     "name": "stdout",
     "output_type": "stream",
     "text": [
      "population_weighted_visualization.html 저장 완료\n"
     ]
    }
   ],
   "source": [
    "# 저장\n",
    "m.save(\"../../result/ACC/population_weighted_visualization.html\")\n",
    "print(\"population_weighted_visualization.html 저장 완료\")"
   ]
  }
 ],
 "metadata": {
  "kernelspec": {
   "display_name": "seoul_datahub",
   "language": "python",
   "name": "python3"
  },
  "language_info": {
   "codemirror_mode": {
    "name": "ipython",
    "version": 3
   },
   "file_extension": ".py",
   "mimetype": "text/x-python",
   "name": "python",
   "nbconvert_exporter": "python",
   "pygments_lexer": "ipython3",
   "version": "3.11.13"
  }
 },
 "nbformat": 4,
 "nbformat_minor": 5
}
