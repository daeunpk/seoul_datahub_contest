{
 "cells": [
  {
   "cell_type": "code",
   "execution_count": 154,
   "id": "6b79c15c",
   "metadata": {},
   "outputs": [],
   "source": [
    "import json\n",
    "import folium\n",
    "import geopandas as gpd\n",
    "import pandas as pd\n",
    "import matplotlib.pyplot as plt\n",
    "from matplotlib import colors"
   ]
  },
  {
   "cell_type": "code",
   "execution_count": 155,
   "id": "7b7f4308",
   "metadata": {},
   "outputs": [],
   "source": [
    "# -----------------------------\n",
    "# 1. JSON 파일 읽기\n",
    "# -----------------------------\n",
    "with open(\"../../../measure/ACC/walking_time_data/parks_accessibility_nonhangang.json\", \"r\", encoding=\"utf-8\") as f:\n",
    "    nonhangang_data = json.load(f)\n",
    "\n",
    "with open(\"../../../measure/ACC/walking_time_data/parks_accessibility_hangang.json\", \"r\", encoding=\"utf-8\") as f:\n",
    "    hangang_data = json.load(f)"
   ]
  },
  {
   "cell_type": "code",
   "execution_count": 156,
   "id": "9d9dcaad",
   "metadata": {},
   "outputs": [],
   "source": [
    "# -----------------------------\n",
    "# 2. GeoDataFrame 불러오기\n",
    "# -----------------------------\n",
    "gu = gpd.read_file(\"../../../map/result/gu.gpkg\", layer=\"gu\").to_crs(4326)\n",
    "parks = gpd.read_file(\"../../../map/result/parks.gpkg\", layer=\"hangang_parks\").to_crs(4326)\n"
   ]
  },
  {
   "cell_type": "code",
   "execution_count": 157,
   "id": "deb7ee96",
   "metadata": {},
   "outputs": [],
   "source": [
    "# -----------------------------\n",
    "# 3. 한강 외 공원 → 구별 대표시간 평균 계산\n",
    "# -----------------------------\n",
    "gu_times = {}\n",
    "for park, info in nonhangang_data.items():\n",
    "    g = info[\"구\"]\n",
    "    time = info[\"최종대표시간\"]\n",
    "\n",
    "    # 구가 리스트 형태일 수도 있음 (북한산 등)\n",
    "    if isinstance(g, list):\n",
    "        for gg in g:\n",
    "            gu_times.setdefault(gg, []).append(time)\n",
    "    else:\n",
    "        gu_times.setdefault(g, []).append(time)\n",
    "\n",
    "gu_avg = {g: sum(times) / len(times) for g, times in gu_times.items()}\n",
    "\n",
    "gu_df = pd.DataFrame([{\"자치구\": g, \"최종대표시간\": t} for g, t in gu_avg.items()])\n",
    "\n",
    "# merge (자치구 컬럼은 drop해서 충돌 방지)\n",
    "gu = gu.merge(\n",
    "    gu_df,\n",
    "    left_on=\"SIGUNGU_NM\",\n",
    "    right_on=\"자치구\",\n",
    "    how=\"left\"\n",
    ").drop(columns=[\"자치구\"])"
   ]
  },
  {
   "cell_type": "code",
   "execution_count": 158,
   "id": "544d07df",
   "metadata": {},
   "outputs": [
    {
     "data": {
      "text/html": [
       "<div>\n",
       "<style scoped>\n",
       "    .dataframe tbody tr th:only-of-type {\n",
       "        vertical-align: middle;\n",
       "    }\n",
       "\n",
       "    .dataframe tbody tr th {\n",
       "        vertical-align: top;\n",
       "    }\n",
       "\n",
       "    .dataframe thead th {\n",
       "        text-align: right;\n",
       "    }\n",
       "</style>\n",
       "<table border=\"1\" class=\"dataframe\">\n",
       "  <thead>\n",
       "    <tr style=\"text-align: right;\">\n",
       "      <th></th>\n",
       "      <th>BASE_DATE</th>\n",
       "      <th>SIGUNGU_NM</th>\n",
       "      <th>SIGUNGU_CD</th>\n",
       "      <th>geometry</th>\n",
       "      <th>최종대표시간</th>\n",
       "    </tr>\n",
       "  </thead>\n",
       "  <tbody>\n",
       "    <tr>\n",
       "      <th>0</th>\n",
       "      <td>20240630</td>\n",
       "      <td>동대문구</td>\n",
       "      <td>11060</td>\n",
       "      <td>MULTIPOLYGON (((127.06937 37.60828, 127.06938 ...</td>\n",
       "      <td>9.250</td>\n",
       "    </tr>\n",
       "    <tr>\n",
       "      <th>1</th>\n",
       "      <td>20240630</td>\n",
       "      <td>중랑구</td>\n",
       "      <td>11070</td>\n",
       "      <td>MULTIPOLYGON (((127.11131 37.62069, 127.11193 ...</td>\n",
       "      <td>4.625</td>\n",
       "    </tr>\n",
       "    <tr>\n",
       "      <th>2</th>\n",
       "      <td>20240630</td>\n",
       "      <td>성북구</td>\n",
       "      <td>11080</td>\n",
       "      <td>MULTIPOLYGON (((126.98396 37.63644, 126.9842 3...</td>\n",
       "      <td>8.500</td>\n",
       "    </tr>\n",
       "    <tr>\n",
       "      <th>3</th>\n",
       "      <td>20240630</td>\n",
       "      <td>강북구</td>\n",
       "      <td>11090</td>\n",
       "      <td>MULTIPOLYGON (((127.00459 37.68507, 127.00553 ...</td>\n",
       "      <td>11.500</td>\n",
       "    </tr>\n",
       "    <tr>\n",
       "      <th>4</th>\n",
       "      <td>20240630</td>\n",
       "      <td>도봉구</td>\n",
       "      <td>11100</td>\n",
       "      <td>MULTIPOLYGON (((127.01983 37.70102, 127.02215 ...</td>\n",
       "      <td>6.250</td>\n",
       "    </tr>\n",
       "  </tbody>\n",
       "</table>\n",
       "</div>"
      ],
      "text/plain": [
       "  BASE_DATE SIGUNGU_NM SIGUNGU_CD  \\\n",
       "0  20240630       동대문구      11060   \n",
       "1  20240630        중랑구      11070   \n",
       "2  20240630        성북구      11080   \n",
       "3  20240630        강북구      11090   \n",
       "4  20240630        도봉구      11100   \n",
       "\n",
       "                                            geometry  최종대표시간  \n",
       "0  MULTIPOLYGON (((127.06937 37.60828, 127.06938 ...   9.250  \n",
       "1  MULTIPOLYGON (((127.11131 37.62069, 127.11193 ...   4.625  \n",
       "2  MULTIPOLYGON (((126.98396 37.63644, 126.9842 3...   8.500  \n",
       "3  MULTIPOLYGON (((127.00459 37.68507, 127.00553 ...  11.500  \n",
       "4  MULTIPOLYGON (((127.01983 37.70102, 127.02215 ...   6.250  "
      ]
     },
     "execution_count": 158,
     "metadata": {},
     "output_type": "execute_result"
    }
   ],
   "source": [
    "gu.head()"
   ]
  },
  {
   "cell_type": "code",
   "execution_count": 159,
   "id": "6e7a70a9",
   "metadata": {},
   "outputs": [],
   "source": [
    "# -----------------------------\n",
    "# 4. 한강공원 → 개별 공원 대표시간\n",
    "# -----------------------------\n",
    "park_df = pd.DataFrame([\n",
    "    {\"공원명\": info[\"공원명\"], \"최종대표시간\": info[\"최종대표시간\"]}\n",
    "    for _, info in hangang_data.items()\n",
    "])\n",
    "\n",
    "# 영어 park_name → 한국어 변환 매핑\n",
    "park_name_map = {\n",
    "    \"Banpo\": \"반포한강공원\",\n",
    "    \"Gangseo\": \"강서한강공원\",\n",
    "    \"Gwangnaru\": \"광나루한강공원\",\n",
    "    \"Ichon\": \"이촌한강공원\",\n",
    "    \"Jamsil\": \"잠실한강공원\",\n",
    "    \"Jamwon\": \"잠원한강공원\",\n",
    "    \"Mangwon\": \"망원한강공원\",\n",
    "    \"Nanji\": \"난지한강공원\",\n",
    "    \"Ttukseom\": \"뚝섬한강공원\",\n",
    "    \"Yanghwa\": \"양화한강공원\",\n",
    "    \"Yeouido\": \"여의도한강공원\"\n",
    "}\n",
    "\n",
    "# 한글로 변환\n",
    "parks[\"park_name\"] = parks[\"park_name\"].map(park_name_map)\n",
    "\n",
    "# merge (공원명 컬럼은 drop해서 충돌 방지)\n",
    "parks = parks.merge(\n",
    "    park_df,\n",
    "    left_on=\"park_name\",\n",
    "    right_on=\"공원명\",\n",
    "    how=\"left\"\n",
    ").drop(columns=[\"공원명\"])"
   ]
  },
  {
   "cell_type": "code",
   "execution_count": 160,
   "id": "92766914",
   "metadata": {},
   "outputs": [
    {
     "data": {
      "text/plain": [
       "<folium.map.LayerControl at 0x33a386a10>"
      ]
     },
     "execution_count": 160,
     "metadata": {},
     "output_type": "execute_result"
    }
   ],
   "source": [
    "# -----------------------------\n",
    "# 6. folium 지도 생성\n",
    "# -----------------------------\n",
    "m = folium.Map(location=[37.5665, 126.9780], zoom_start=11, tiles=\"CartoDB positron\")\n",
    "\n",
    "# colormap 기준: 구 + 한강공원 전체 최종대표시간\n",
    "all_min = min(gu[\"최종대표시간\"].min(), parks[\"최종대표시간\"].min())\n",
    "all_max = max(gu[\"최종대표시간\"].max(), parks[\"최종대표시간\"].max())\n",
    "\n",
    "cmap = plt.cm.Purples_r  # 둘 다 같은 팔레트 사용\n",
    "norm = colors.Normalize(vmin=all_min, vmax=all_max)\n",
    "\n",
    "# 자치구 레이어\n",
    "folium.GeoJson(\n",
    "    gu,\n",
    "    style_function=lambda f: {\n",
    "        \"fillColor\": \"#eeeeee\" if pd.isna(f[\"properties\"][\"최종대표시간\"]) else \n",
    "                     colors.rgb2hex(cmap(norm(f[\"properties\"][\"최종대표시간\"]))),\n",
    "        \"color\": \"#666\",\n",
    "        \"weight\": 1,\n",
    "        \"fillOpacity\": 0.8\n",
    "    },\n",
    "    tooltip=folium.GeoJsonTooltip(\n",
    "        fields=[\"SIGUNGU_NM\", \"최종대표시간\"],\n",
    "        aliases=[\"자치구\", \"대표시간(분)\"]\n",
    "    )\n",
    ").add_to(m)\n",
    "\n",
    "# 한강공원 레이어\n",
    "folium.GeoJson(\n",
    "    parks,\n",
    "    name=\"한강공원\",\n",
    "    style_function=lambda f: {\n",
    "        \"fillColor\": \"#cccccc\" if pd.isna(f[\"properties\"][\"최종대표시간\"]) else \n",
    "                     colors.rgb2hex(cmap(norm(f[\"properties\"][\"최종대표시간\"]))),\n",
    "        \"color\": \"#666\",\n",
    "        \"weight\": 1.2,\n",
    "        \"fillOpacity\": 0.8\n",
    "    },\n",
    "    tooltip=folium.GeoJsonTooltip(\n",
    "        fields=[\"park_name\", \"최종대표시간\"],\n",
    "        aliases=[\"공원\", \"대표시간(분)\"]\n",
    "    )\n",
    ").add_to(m)\n",
    "\n",
    "# 레이어 컨트롤\n",
    "folium.LayerControl(collapsed=False).add_to(m)\n"
   ]
  },
  {
   "cell_type": "code",
   "execution_count": 161,
   "id": "4aae6b38",
   "metadata": {},
   "outputs": [
    {
     "name": "stdout",
     "output_type": "stream",
     "text": [
      "walking_time_visualization.html 저장 완료\n"
     ]
    }
   ],
   "source": [
    "# 저장\n",
    "m.save(\"../../result/ACC/walking_time_visualization.html\")\n",
    "print(\"walking_time_visualization.html 저장 완료\")"
   ]
  }
 ],
 "metadata": {
  "kernelspec": {
   "display_name": "seoul_datahub",
   "language": "python",
   "name": "python3"
  },
  "language_info": {
   "codemirror_mode": {
    "name": "ipython",
    "version": 3
   },
   "file_extension": ".py",
   "mimetype": "text/x-python",
   "name": "python",
   "nbconvert_exporter": "python",
   "pygments_lexer": "ipython3",
   "version": "3.11.13"
  }
 },
 "nbformat": 4,
 "nbformat_minor": 5
}
