{
 "cells": [
  {
   "cell_type": "code",
   "execution_count": 17,
   "id": "5105afe9",
   "metadata": {},
   "outputs": [
    {
     "name": "stderr",
     "output_type": "stream",
     "text": [
      "Device set to use cpu\n"
     ]
    }
   ],
   "source": [
    "from transformers import pipeline\n",
    "import pandas as pd\n",
    "import ast\n",
    "\n",
    "model_name = \"alsgyu/sentiment-analysis-fine-tuned-model\"\n",
    "\n",
    "analyzer = pipeline(\"sentiment-analysis\", model=model_name, tokenizer=model_name, device=-1)"
   ]
  },
  {
   "cell_type": "code",
   "execution_count": 18,
   "id": "8334172e",
   "metadata": {},
   "outputs": [
    {
     "data": {
      "text/html": [
       "<div>\n",
       "<style scoped>\n",
       "    .dataframe tbody tr th:only-of-type {\n",
       "        vertical-align: middle;\n",
       "    }\n",
       "\n",
       "    .dataframe tbody tr th {\n",
       "        vertical-align: top;\n",
       "    }\n",
       "\n",
       "    .dataframe thead th {\n",
       "        text-align: right;\n",
       "    }\n",
       "</style>\n",
       "<table border=\"1\" class=\"dataframe\">\n",
       "  <thead>\n",
       "    <tr style=\"text-align: right;\">\n",
       "      <th></th>\n",
       "      <th>Park_nm</th>\n",
       "      <th>Topic</th>\n",
       "      <th>Count</th>\n",
       "      <th>Name</th>\n",
       "      <th>Representation</th>\n",
       "      <th>Representative_Docs</th>\n",
       "    </tr>\n",
       "  </thead>\n",
       "  <tbody>\n",
       "    <tr>\n",
       "      <th>0</th>\n",
       "      <td>용산_효창공원</td>\n",
       "      <td>1</td>\n",
       "      <td>64</td>\n",
       "      <td>1_나무_김구_기념관_효창</td>\n",
       "      <td>['나무', '김구', '기념관', '효창', '선생', '오래', '역사', '시...</td>\n",
       "      <td>['숲도 좋고 운동하기좋은곳 역사가 있고(윤봉길) 김구선생님 기념관도 있고', '도...</td>\n",
       "    </tr>\n",
       "    <tr>\n",
       "      <th>1</th>\n",
       "      <td>용산_효창공원</td>\n",
       "      <td>2</td>\n",
       "      <td>43</td>\n",
       "      <td>2_역사_심속_의미_오래</td>\n",
       "      <td>['역사', '심속', '의미', '오래', '여유', '휴식', '집기', '벌레...</td>\n",
       "      <td>['걷기와 휴식 역사가 있는 편안한 공원', '역사적 의미가 있는 공원', '여름철...</td>\n",
       "    </tr>\n",
       "    <tr>\n",
       "      <th>2</th>\n",
       "      <td>용산_효창공원</td>\n",
       "      <td>4</td>\n",
       "      <td>16</td>\n",
       "      <td>4_방문_아름답_시내_최고</td>\n",
       "      <td>['방문', '아름답', '시내', '최고', '한국', '조성', '괜찮', '추...</td>\n",
       "      <td>['아름답고 잘 관리된 공원 그런데 제가 서울에서 방문한 모든 공원은 완벽하게 관리...</td>\n",
       "    </tr>\n",
       "    <tr>\n",
       "      <th>3</th>\n",
       "      <td>종로_낙산공원</td>\n",
       "      <td>0</td>\n",
       "      <td>581</td>\n",
       "      <td>0_올라가_데이트_사람_예쁘</td>\n",
       "      <td>['올라가', '데이트', '사람', '예쁘', '경치', '힘들', '주차', '...</td>\n",
       "      <td>['정상에 올라가면 나름 운치있고 성곽도 있고ㅎㅎ 예쁨^^ 사진찍기좋음ㅎㅎ 데이트 ...</td>\n",
       "    </tr>\n",
       "    <tr>\n",
       "      <th>4</th>\n",
       "      <td>종로_낙산공원</td>\n",
       "      <td>1</td>\n",
       "      <td>180</td>\n",
       "      <td>1_카페_도심_올라가_주차장</td>\n",
       "      <td>['카페', '도심', '올라가', '주차장', '경치', '대학', '바라보', ...</td>\n",
       "      <td>['걸어서 성곽길을 걷다보면 아름다운 카페들도 나오고 운치있는곳들이 너무많은곳 연인...</td>\n",
       "    </tr>\n",
       "  </tbody>\n",
       "</table>\n",
       "</div>"
      ],
      "text/plain": [
       "   Park_nm  Topic  Count             Name  \\\n",
       "0  용산_효창공원      1     64   1_나무_김구_기념관_효창   \n",
       "1  용산_효창공원      2     43    2_역사_심속_의미_오래   \n",
       "2  용산_효창공원      4     16   4_방문_아름답_시내_최고   \n",
       "3  종로_낙산공원      0    581  0_올라가_데이트_사람_예쁘   \n",
       "4  종로_낙산공원      1    180  1_카페_도심_올라가_주차장   \n",
       "\n",
       "                                      Representation  \\\n",
       "0  ['나무', '김구', '기념관', '효창', '선생', '오래', '역사', '시...   \n",
       "1  ['역사', '심속', '의미', '오래', '여유', '휴식', '집기', '벌레...   \n",
       "2  ['방문', '아름답', '시내', '최고', '한국', '조성', '괜찮', '추...   \n",
       "3  ['올라가', '데이트', '사람', '예쁘', '경치', '힘들', '주차', '...   \n",
       "4  ['카페', '도심', '올라가', '주차장', '경치', '대학', '바라보', ...   \n",
       "\n",
       "                                 Representative_Docs  \n",
       "0  ['숲도 좋고 운동하기좋은곳 역사가 있고(윤봉길) 김구선생님 기념관도 있고', '도...  \n",
       "1  ['걷기와 휴식 역사가 있는 편안한 공원', '역사적 의미가 있는 공원', '여름철...  \n",
       "2  ['아름답고 잘 관리된 공원 그런데 제가 서울에서 방문한 모든 공원은 완벽하게 관리...  \n",
       "3  ['정상에 올라가면 나름 운치있고 성곽도 있고ㅎㅎ 예쁨^^ 사진찍기좋음ㅎㅎ 데이트 ...  \n",
       "4  ['걸어서 성곽길을 걷다보면 아름다운 카페들도 나오고 운치있는곳들이 너무많은곳 연인...  "
      ]
     },
     "execution_count": 18,
     "metadata": {},
     "output_type": "execute_result"
    }
   ],
   "source": [
    "df=pd.read_csv(\"combine_topic_summary_cleaned.csv\")\n",
    "df.head()"
   ]
  },
  {
   "cell_type": "code",
   "execution_count": 19,
   "id": "26e57421",
   "metadata": {},
   "outputs": [
    {
     "name": "stdout",
     "output_type": "stream",
     "text": [
      "   sentiment_label  sentiment_score\n",
      "0               긍정         0.598557\n",
      "1               긍정         0.971144\n",
      "2               긍정         0.616219\n",
      "3               긍정         0.824299\n",
      "4               긍정         0.942347\n",
      "5               긍정         0.814306\n",
      "6               중립         0.644720\n",
      "7               긍정         0.989085\n",
      "8               긍정         0.986623\n",
      "9               중립         0.699922\n",
      "10              긍정         0.738534\n",
      "11              긍정         0.979929\n",
      "12              긍정         0.894467\n",
      "13              긍정         0.980794\n",
      "14              긍정         0.983154\n",
      "15              중립         0.602471\n",
      "16              긍정         0.959748\n",
      "17              긍정         0.982432\n",
      "18              긍정         0.974702\n",
      "19              긍정         0.981843\n"
     ]
    }
   ],
   "source": [
    "def _join_docs(docs_field):\n",
    "    if isinstance(docs_field, list):\n",
    "        docs = docs_field\n",
    "    else:\n",
    "        docs = ast.literal_eval(docs_field)\n",
    "    return \" \".join([t for t in docs if isinstance(t, str) and t.strip()])\n",
    "\n",
    "# 각 행의 Representative_Docs를 합쳐 문서 1개로 만듦\n",
    "texts = df[\"Representative_Docs\"].apply(_join_docs)\n",
    "\n",
    "# 배치 추론(원형 유지: 같은 pipeline/analyzer 사용, truncation만 명시)\n",
    "raw_results = analyzer(texts.tolist(), truncation=True)\n",
    "\n",
    "# 라벨 매핑\n",
    "label_mapping = {\"LABEL_0\": \"부정\", \"LABEL_1\": \"중립\", \"LABEL_2\": \"긍정\"}\n",
    "\n",
    "# 최종 컬럼 추가\n",
    "df[\"sentiment_label\"] = [label_mapping[r[\"label\"]] for r in raw_results]\n",
    "df[\"sentiment_score\"] = [float(r[\"score\"]) for r in raw_results]  # 0~1 확률값\n",
    "\n",
    "print(df[[\"sentiment_label\", \"sentiment_score\"]].head(20))\n"
   ]
  },
  {
   "cell_type": "code",
   "execution_count": 20,
   "id": "4a7b60b3",
   "metadata": {},
   "outputs": [
    {
     "name": "stdout",
     "output_type": "stream",
     "text": [
      "Results saved to final_sentiment_analysis_results.csv\n"
     ]
    }
   ],
   "source": [
    "output_file_path = \"final_sentiment_analysis_results.csv\"\n",
    "df.to_csv(output_file_path, index=False, encoding='utf-8-sig')\n",
    "print(f\"Results saved to {output_file_path}\")"
   ]
  }
 ],
 "metadata": {
  "kernelspec": {
   "display_name": ".venv",
   "language": "python",
   "name": "python3"
  },
  "language_info": {
   "codemirror_mode": {
    "name": "ipython",
    "version": 3
   },
   "file_extension": ".py",
   "mimetype": "text/x-python",
   "name": "python",
   "nbconvert_exporter": "python",
   "pygments_lexer": "ipython3",
   "version": "3.12.3"
  }
 },
 "nbformat": 4,
 "nbformat_minor": 5
}
