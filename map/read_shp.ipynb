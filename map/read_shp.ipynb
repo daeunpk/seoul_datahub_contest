{
 "cells": [
  {
   "cell_type": "code",
   "execution_count": null,
   "id": "c9055932",
   "metadata": {},
   "outputs": [],
   "source": [
    "import geopandas as gpd\n",
    "\n",
    "gdf = gpd.read_file(\"bnd_sigungu_11_2024_2Q/bnd_sigungu_11_2024_2Q.shp\", encoding=\"cp949\")\n",
    "\n",
    "# 전체 컬럼 보기\n",
    "print(gdf.columns)\n",
    "\n",
    "# 데이터 앞부분 5행 보기\n",
    "print(gdf.head())\n",
    "\n",
    "# 모든 행을 다 보고 싶으면 (조심: 행이 많으면 출력이 길어짐)\n",
    "pd.set_option('display.max_rows', None)\n",
    "pd.set_option('display.max_columns', None)\n",
    "print(gdf)\n"
   ]
  }
 ],
 "metadata": {
  "language_info": {
   "name": "python"
  }
 },
 "nbformat": 4,
 "nbformat_minor": 5
}
